{
 "cells": [
  {
   "cell_type": "code",
   "execution_count": 12,
   "metadata": {},
   "outputs": [],
   "source": [
    "library(UpSetR)\n",
    "library(readxl)\n",
    "library(ggplot2)\n",
    "library(clusterProfiler)\n",
    "library(DESeq2)"
   ]
  },
  {
   "cell_type": "code",
   "execution_count": 5,
   "metadata": {},
   "outputs": [],
   "source": [
    "read_data <- function(file){\n",
    "    data <- data.frame(read_excel(file))\n",
    "    print(dim(data))\n",
    "    data$abslog2FC <- abs(data$log2FoldChange)\n",
    "    data<- subset(data, abslog2FC>2 & padj<0.01, select=c(\"ID\", \"regulated\", \"log2FoldChange\", \"pvalue\", \"padj\"))\n",
    "    #data<- subset(data, abslog2FC>2 & padj<0.01)\n",
    "    rownames(data) <- data$ID\n",
    "    print(dim(data))\n",
    "    return(data)\n",
    "}\n",
    "\n",
    "read_data2 <- function(file){\n",
    "    data <- data.frame(read_excel(file))\n",
    "    print(dim(data))\n",
    "    data$abslog2FC <- abs(data$log2FoldChange)\n",
    "    #data<- subset(data, abslog2FC>2 & padj<0.01, select=c(\"ID\", \"regulated\", \"log2FoldChange\", \"pvalue\", \"padj\"))\n",
    "    #data<- subset(data, abslog2FC>2 & padj<0.01)\n",
    "    rownames(data) <- data$ID\n",
    "    print(dim(data))\n",
    "    return(data)\n",
    "}\n"
   ]
  },
  {
   "cell_type": "code",
   "execution_count": 8,
   "metadata": {},
   "outputs": [
    {
     "name": "stdout",
     "output_type": "stream",
     "text": [
      "[1] 20527    34\n",
      "[1] 20527    35\n"
     ]
    }
   ],
   "source": [
    "C24 <- read_data2(\"~/Documents/phd/tomato_metabolic/data/番茄转录组数据分析/CC:C/全部基因/C24h_vs_CC24h.all.annot.xlsx\")"
   ]
  },
  {
   "cell_type": "code",
   "execution_count": 16,
   "metadata": {},
   "outputs": [],
   "source": [
    "C24_counts <- subset(C24, select=c(\"C24h.1_count\", \"C24h.2_count\", \"CC24h.1_count\", \"CC24h.2_count\", \"CC24h.3_count\"))"
   ]
  },
  {
   "cell_type": "code",
   "execution_count": 20,
   "metadata": {},
   "outputs": [
    {
     "data": {
      "text/html": [
       "<table class=\"dataframe\">\n",
       "<caption>A data.frame: 5 × 1</caption>\n",
       "<thead>\n",
       "\t<tr><th></th><th scope=col>condition</th></tr>\n",
       "\t<tr><th></th><th scope=col>&lt;chr&gt;</th></tr>\n",
       "</thead>\n",
       "<tbody>\n",
       "\t<tr><th scope=row>C24h.1_count</th><td>C </td></tr>\n",
       "\t<tr><th scope=row>C24h.2_count</th><td>C </td></tr>\n",
       "\t<tr><th scope=row>CC24h.1_count</th><td>CC</td></tr>\n",
       "\t<tr><th scope=row>CC24h.2_count</th><td>CC</td></tr>\n",
       "\t<tr><th scope=row>CC24h.3_count</th><td>CC</td></tr>\n",
       "</tbody>\n",
       "</table>\n"
      ],
      "text/latex": [
       "A data.frame: 5 × 1\n",
       "\\begin{tabular}{r|l}\n",
       "  & condition\\\\\n",
       "  & <chr>\\\\\n",
       "\\hline\n",
       "\tC24h.1\\_count & C \\\\\n",
       "\tC24h.2\\_count & C \\\\\n",
       "\tCC24h.1\\_count & CC\\\\\n",
       "\tCC24h.2\\_count & CC\\\\\n",
       "\tCC24h.3\\_count & CC\\\\\n",
       "\\end{tabular}\n"
      ],
      "text/markdown": [
       "\n",
       "A data.frame: 5 × 1\n",
       "\n",
       "| <!--/--> | condition &lt;chr&gt; |\n",
       "|---|---|\n",
       "| C24h.1_count | C  |\n",
       "| C24h.2_count | C  |\n",
       "| CC24h.1_count | CC |\n",
       "| CC24h.2_count | CC |\n",
       "| CC24h.3_count | CC |\n",
       "\n"
      ],
      "text/plain": [
       "              condition\n",
       "C24h.1_count  C        \n",
       "C24h.2_count  C        \n",
       "CC24h.1_count CC       \n",
       "CC24h.2_count CC       \n",
       "CC24h.3_count CC       "
      ]
     },
     "metadata": {},
     "output_type": "display_data"
    }
   ],
   "source": [
    "design = data.frame(c(\"C\", \"C\", \"CC\", \"CC\", \"CC\"))\n",
    "colnames(design) <- c(\"condition\")\n",
    "rownames(design) <- c(\"C24h.1_count\", \"C24h.2_count\", \"CC24h.1_count\", \"CC24h.2_count\", \"CC24h.3_count\")\n",
    "design"
   ]
  },
  {
   "cell_type": "code",
   "execution_count": 48,
   "metadata": {},
   "outputs": [
    {
     "name": "stderr",
     "output_type": "stream",
     "text": [
      "converting counts to integer mode\n",
      "\n",
      "Warning message in DESeqDataSet(se, design = design, ignoreRank):\n",
      "“some variables in design formula are characters, converting to factors”\n",
      "estimating size factors\n",
      "\n",
      "estimating dispersions\n",
      "\n",
      "gene-wise dispersion estimates\n",
      "\n",
      "mean-dispersion relationship\n",
      "\n",
      "final dispersion estimates\n",
      "\n",
      "fitting model and testing\n",
      "\n"
     ]
    }
   ],
   "source": [
    "ddsFullCountTable <- DESeqDataSetFromMatrix(countData = C24_counts, colData = design , design = ~condition)\n",
    "dds = DESeq(ddsFullCountTable)\n",
    "res = results(dds , contrast = c(\"condition\", \"CC\", \"C\"))\n"
   ]
  },
  {
   "cell_type": "code",
   "execution_count": 49,
   "metadata": {},
   "outputs": [
    {
     "data": {
      "text/plain": [
       "log2 fold change (MLE): condition CC vs C \n",
       "Wald test p-value: condition CC vs C \n",
       "DataFrame with 20527 rows and 6 columns\n",
       "                   baseMean log2FoldChange     lfcSE      stat       pvalue\n",
       "                  <numeric>      <numeric> <numeric> <numeric>    <numeric>\n",
       "Solyc04g071083.1   7724.324        8.39113 0.2208068   38.0021  0.00000e+00\n",
       "Solyc08g068730.1   1271.626        6.63353 0.2631825   25.2050 3.52647e-140\n",
       "Solyc04g064760.3   1086.379        3.03536 0.1185985   25.5936 1.79831e-144\n",
       "Solyc10g084240.3    841.275        4.35920 0.1849628   23.5680 8.21383e-123\n",
       "Solyc05g008895.1   5964.746        2.54905 0.0926708   27.5065 1.46732e-166\n",
       "...                     ...            ...       ...       ...          ...\n",
       "Solyc11g044910.2 15952.8277        3.35938  0.511573   6.56676  5.14207e-11\n",
       "Solyc12g013700.2  1929.0393        0.37018  0.210633   1.75746  7.88392e-02\n",
       "Solyc12g098603.1    31.6306       -1.66827  0.469552  -3.55290  3.81015e-04\n",
       "novel.1271          49.9403        1.93188  0.456657   4.23048  2.33195e-05\n",
       "novel.6321          16.9013        1.04730  0.680772   1.53841  1.23949e-01\n",
       "                         padj\n",
       "                    <numeric>\n",
       "Solyc04g071083.1  0.00000e+00\n",
       "Solyc08g068730.1 3.29036e-137\n",
       "Solyc04g064760.3 1.84570e-141\n",
       "Solyc10g084240.3 6.02162e-120\n",
       "Solyc05g008895.1 2.50997e-163\n",
       "...                       ...\n",
       "Solyc11g044910.2  5.34166e-10\n",
       "Solyc12g013700.2  1.45311e-01\n",
       "Solyc12g098603.1  1.40415e-03\n",
       "novel.1271        1.11114e-04\n",
       "novel.6321        2.10517e-01"
      ]
     },
     "metadata": {},
     "output_type": "display_data"
    }
   ],
   "source": [
    "res"
   ]
  },
  {
   "cell_type": "code",
   "execution_count": 24,
   "metadata": {},
   "outputs": [
    {
     "data": {
      "text/html": [
       "<style>\n",
       ".list-inline {list-style: none; margin:0; padding: 0}\n",
       ".list-inline>li {display: inline-block}\n",
       ".list-inline>li:not(:last-child)::after {content: \"\\00b7\"; padding: 0 .5ex}\n",
       "</style>\n",
       "<ol class=list-inline><li>'ID'</li><li>'C24h.1_fpkm'</li><li>'C24h.2_fpkm'</li><li>'C24h.3_fpkm'</li><li>'CC24h.1_fpkm'</li><li>'CC24h.2_fpkm'</li><li>'CC24h.3_fpkm'</li><li>'C24h.1_count'</li><li>'C24h.2_count'</li><li>'C24h.3_count'</li><li>'CC24h.1_count'</li><li>'CC24h.2_count'</li><li>'CC24h.3_count'</li><li>'log2FoldChange'</li><li>'pvalue'</li><li>'padj'</li><li>'regulated'</li><li>'chr'</li><li>'start'</li><li>'end'</li><li>'strand'</li><li>'gene_name'</li><li>'gene_description'</li><li>'KEGG'</li><li>'KEGG.pathway'</li><li>'NR'</li><li>'Swissprot'</li><li>'Tremble'</li><li>'KOG'</li><li>'GO'</li><li>'Pfam'</li><li>'TF.Family'</li><li>'TF.Category'</li><li>'TF.Classification'</li><li>'abslog2FC'</li></ol>\n"
      ],
      "text/latex": [
       "\\begin{enumerate*}\n",
       "\\item 'ID'\n",
       "\\item 'C24h.1\\_fpkm'\n",
       "\\item 'C24h.2\\_fpkm'\n",
       "\\item 'C24h.3\\_fpkm'\n",
       "\\item 'CC24h.1\\_fpkm'\n",
       "\\item 'CC24h.2\\_fpkm'\n",
       "\\item 'CC24h.3\\_fpkm'\n",
       "\\item 'C24h.1\\_count'\n",
       "\\item 'C24h.2\\_count'\n",
       "\\item 'C24h.3\\_count'\n",
       "\\item 'CC24h.1\\_count'\n",
       "\\item 'CC24h.2\\_count'\n",
       "\\item 'CC24h.3\\_count'\n",
       "\\item 'log2FoldChange'\n",
       "\\item 'pvalue'\n",
       "\\item 'padj'\n",
       "\\item 'regulated'\n",
       "\\item 'chr'\n",
       "\\item 'start'\n",
       "\\item 'end'\n",
       "\\item 'strand'\n",
       "\\item 'gene\\_name'\n",
       "\\item 'gene\\_description'\n",
       "\\item 'KEGG'\n",
       "\\item 'KEGG.pathway'\n",
       "\\item 'NR'\n",
       "\\item 'Swissprot'\n",
       "\\item 'Tremble'\n",
       "\\item 'KOG'\n",
       "\\item 'GO'\n",
       "\\item 'Pfam'\n",
       "\\item 'TF.Family'\n",
       "\\item 'TF.Category'\n",
       "\\item 'TF.Classification'\n",
       "\\item 'abslog2FC'\n",
       "\\end{enumerate*}\n"
      ],
      "text/markdown": [
       "1. 'ID'\n",
       "2. 'C24h.1_fpkm'\n",
       "3. 'C24h.2_fpkm'\n",
       "4. 'C24h.3_fpkm'\n",
       "5. 'CC24h.1_fpkm'\n",
       "6. 'CC24h.2_fpkm'\n",
       "7. 'CC24h.3_fpkm'\n",
       "8. 'C24h.1_count'\n",
       "9. 'C24h.2_count'\n",
       "10. 'C24h.3_count'\n",
       "11. 'CC24h.1_count'\n",
       "12. 'CC24h.2_count'\n",
       "13. 'CC24h.3_count'\n",
       "14. 'log2FoldChange'\n",
       "15. 'pvalue'\n",
       "16. 'padj'\n",
       "17. 'regulated'\n",
       "18. 'chr'\n",
       "19. 'start'\n",
       "20. 'end'\n",
       "21. 'strand'\n",
       "22. 'gene_name'\n",
       "23. 'gene_description'\n",
       "24. 'KEGG'\n",
       "25. 'KEGG.pathway'\n",
       "26. 'NR'\n",
       "27. 'Swissprot'\n",
       "28. 'Tremble'\n",
       "29. 'KOG'\n",
       "30. 'GO'\n",
       "31. 'Pfam'\n",
       "32. 'TF.Family'\n",
       "33. 'TF.Category'\n",
       "34. 'TF.Classification'\n",
       "35. 'abslog2FC'\n",
       "\n",
       "\n"
      ],
      "text/plain": [
       " [1] \"ID\"                \"C24h.1_fpkm\"       \"C24h.2_fpkm\"      \n",
       " [4] \"C24h.3_fpkm\"       \"CC24h.1_fpkm\"      \"CC24h.2_fpkm\"     \n",
       " [7] \"CC24h.3_fpkm\"      \"C24h.1_count\"      \"C24h.2_count\"     \n",
       "[10] \"C24h.3_count\"      \"CC24h.1_count\"     \"CC24h.2_count\"    \n",
       "[13] \"CC24h.3_count\"     \"log2FoldChange\"    \"pvalue\"           \n",
       "[16] \"padj\"              \"regulated\"         \"chr\"              \n",
       "[19] \"start\"             \"end\"               \"strand\"           \n",
       "[22] \"gene_name\"         \"gene_description\"  \"KEGG\"             \n",
       "[25] \"KEGG.pathway\"      \"NR\"                \"Swissprot\"        \n",
       "[28] \"Tremble\"           \"KOG\"               \"GO\"               \n",
       "[31] \"Pfam\"              \"TF.Family\"         \"TF.Category\"      \n",
       "[34] \"TF.Classification\" \"abslog2FC\"        "
      ]
     },
     "metadata": {},
     "output_type": "display_data"
    }
   ],
   "source": [
    "colnames(C24)"
   ]
  },
  {
   "cell_type": "code",
   "execution_count": 50,
   "metadata": {},
   "outputs": [],
   "source": [
    "C24$log2FoldChange <- res$log2FoldChange\n",
    "C24$pvalue <- res$pvalue\n",
    "C24$padj <- res$padj\n",
    "C24$abslog2FC <- abs(res$log2FoldChange)\n"
   ]
  },
  {
   "cell_type": "code",
   "execution_count": 51,
   "metadata": {},
   "outputs": [],
   "source": [
    "C24$regulated <- \"false\"\n",
    "C24[subset(C24, log2FoldChange>2 & padj<0.01)$ID, \"regulated\"] = \"up\"\n",
    "C24[subset(C24, log2FoldChange>-2 & padj<0.01)$ID, \"regulated\"] = \"down\""
   ]
  },
  {
   "cell_type": "code",
   "execution_count": 52,
   "metadata": {},
   "outputs": [],
   "source": [
    "write.table(C24, \"newdata/C24_rmC24-3_new_DE.xls\", sep=\"\\t\", quote=FALSE)"
   ]
  },
  {
   "cell_type": "markdown",
   "metadata": {},
   "source": [
    "# C84"
   ]
  },
  {
   "cell_type": "code",
   "execution_count": 53,
   "metadata": {},
   "outputs": [
    {
     "name": "stdout",
     "output_type": "stream",
     "text": [
      "[1] 20690    34\n",
      "[1] 20690    35\n"
     ]
    }
   ],
   "source": [
    "C84 <- read_data2(\"~/Documents/phd/tomato_metabolic/data/番茄转录组数据分析/CC:C/全部基因/C84h_vs_CC84h.all.annot.xlsx\")"
   ]
  },
  {
   "cell_type": "code",
   "execution_count": 54,
   "metadata": {},
   "outputs": [],
   "source": [
    "C84_counts <- subset(C84, select=c(\"C84h.1_count\", \"C84h.3_count\", \"CC84h.1_count\", \"CC84h.2_count\", \"CC84h.3_count\"))"
   ]
  },
  {
   "cell_type": "code",
   "execution_count": 55,
   "metadata": {},
   "outputs": [
    {
     "data": {
      "text/html": [
       "<table class=\"dataframe\">\n",
       "<caption>A data.frame: 5 × 1</caption>\n",
       "<thead>\n",
       "\t<tr><th></th><th scope=col>condition</th></tr>\n",
       "\t<tr><th></th><th scope=col>&lt;chr&gt;</th></tr>\n",
       "</thead>\n",
       "<tbody>\n",
       "\t<tr><th scope=row>C84h.1_count</th><td>C </td></tr>\n",
       "\t<tr><th scope=row>C84h.3_count</th><td>C </td></tr>\n",
       "\t<tr><th scope=row>CC84h.1_count</th><td>CC</td></tr>\n",
       "\t<tr><th scope=row>CC84h.2_count</th><td>CC</td></tr>\n",
       "\t<tr><th scope=row>CC84h.3_count</th><td>CC</td></tr>\n",
       "</tbody>\n",
       "</table>\n"
      ],
      "text/latex": [
       "A data.frame: 5 × 1\n",
       "\\begin{tabular}{r|l}\n",
       "  & condition\\\\\n",
       "  & <chr>\\\\\n",
       "\\hline\n",
       "\tC84h.1\\_count & C \\\\\n",
       "\tC84h.3\\_count & C \\\\\n",
       "\tCC84h.1\\_count & CC\\\\\n",
       "\tCC84h.2\\_count & CC\\\\\n",
       "\tCC84h.3\\_count & CC\\\\\n",
       "\\end{tabular}\n"
      ],
      "text/markdown": [
       "\n",
       "A data.frame: 5 × 1\n",
       "\n",
       "| <!--/--> | condition &lt;chr&gt; |\n",
       "|---|---|\n",
       "| C84h.1_count | C  |\n",
       "| C84h.3_count | C  |\n",
       "| CC84h.1_count | CC |\n",
       "| CC84h.2_count | CC |\n",
       "| CC84h.3_count | CC |\n",
       "\n"
      ],
      "text/plain": [
       "              condition\n",
       "C84h.1_count  C        \n",
       "C84h.3_count  C        \n",
       "CC84h.1_count CC       \n",
       "CC84h.2_count CC       \n",
       "CC84h.3_count CC       "
      ]
     },
     "metadata": {},
     "output_type": "display_data"
    }
   ],
   "source": [
    "design = data.frame(c(\"C\", \"C\", \"CC\", \"CC\", \"CC\"))\n",
    "colnames(design) <- c(\"condition\")\n",
    "rownames(design) <- c(\"C84h.1_count\", \"C84h.3_count\", \"CC84h.1_count\", \"CC84h.2_count\", \"CC84h.3_count\")\n",
    "design"
   ]
  },
  {
   "cell_type": "code",
   "execution_count": 56,
   "metadata": {},
   "outputs": [
    {
     "name": "stderr",
     "output_type": "stream",
     "text": [
      "converting counts to integer mode\n",
      "\n",
      "Warning message in DESeqDataSet(se, design = design, ignoreRank):\n",
      "“some variables in design formula are characters, converting to factors”\n",
      "estimating size factors\n",
      "\n",
      "estimating dispersions\n",
      "\n",
      "gene-wise dispersion estimates\n",
      "\n",
      "mean-dispersion relationship\n",
      "\n",
      "final dispersion estimates\n",
      "\n",
      "fitting model and testing\n",
      "\n"
     ]
    }
   ],
   "source": [
    "ddsFullCountTable <- DESeqDataSetFromMatrix(countData = C84_counts, colData = design , design = ~condition)\n",
    "dds = DESeq(ddsFullCountTable)\n",
    "res = results(dds , contrast = c(\"condition\", \"CC\", \"C\"))\n"
   ]
  },
  {
   "cell_type": "code",
   "execution_count": 57,
   "metadata": {},
   "outputs": [],
   "source": [
    "C84$log2FoldChange <- res$log2FoldChange\n",
    "C84$pvalue <- res$pvalue\n",
    "C84$padj <- res$padj\n",
    "C84$abslog2FC <- abs(res$log2FoldChange)\n",
    "\n",
    "C84$regulated <- \"false\"\n",
    "C84[subset(C84, log2FoldChange>2 & padj<0.01)$ID, \"regulated\"] = \"up\"\n",
    "C84[subset(C84, log2FoldChange>-2 & padj<0.01)$ID, \"regulated\"] = \"down\""
   ]
  },
  {
   "cell_type": "code",
   "execution_count": 58,
   "metadata": {},
   "outputs": [],
   "source": [
    "write.table(C84, \"newdata/C84_rmC84-2_new_DE.xls\", sep=\"\\t\", quote=FALSE)"
   ]
  },
  {
   "cell_type": "markdown",
   "metadata": {},
   "source": [
    "# CD 96-2"
   ]
  },
  {
   "cell_type": "code",
   "execution_count": null,
   "metadata": {},
   "outputs": [],
   "source": []
  },
  {
   "cell_type": "code",
   "execution_count": null,
   "metadata": {},
   "outputs": [],
   "source": []
  },
  {
   "cell_type": "code",
   "execution_count": null,
   "metadata": {},
   "outputs": [],
   "source": []
  },
  {
   "cell_type": "code",
   "execution_count": null,
   "metadata": {},
   "outputs": [],
   "source": []
  },
  {
   "cell_type": "code",
   "execution_count": null,
   "metadata": {},
   "outputs": [],
   "source": []
  },
  {
   "cell_type": "code",
   "execution_count": null,
   "metadata": {},
   "outputs": [],
   "source": []
  }
 ],
 "metadata": {
  "kernelspec": {
   "display_name": "R",
   "language": "R",
   "name": "ir"
  },
  "language_info": {
   "codemirror_mode": "r",
   "file_extension": ".r",
   "mimetype": "text/x-r-source",
   "name": "R",
   "pygments_lexer": "r",
   "version": "4.0.4"
  }
 },
 "nbformat": 4,
 "nbformat_minor": 4
}
