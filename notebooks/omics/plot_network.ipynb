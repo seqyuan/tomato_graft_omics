{
 "cells": [
  {
   "cell_type": "code",
   "execution_count": 1,
   "metadata": {},
   "outputs": [
    {
     "name": "stderr",
     "output_type": "stream",
     "text": [
      "/Users/yuanzan/anaconda3/lib/python3.8/site-packages/pandas/core/computation/expressions.py:20: UserWarning: Pandas requires version '2.7.3' or newer of 'numexpr' (version '2.7.1' currently installed).\n",
      "  from pandas.core.computation.check import NUMEXPR_INSTALLED\n"
     ]
    }
   ],
   "source": [
    "import matplotlib.pyplot as plt\n",
    "import networkx as nx\n",
    "import pandas as pd\n",
    "import numpy as np\n",
    "import matplotlib as mpl\n",
    "mpl.rcParams['pdf.fonttype']=42\n",
    "mpl.rcParams['ps.fonttype']=42\n",
    "\n",
    "import numpy as np\n",
    "from sklearn.datasets import load_digits\n",
    "from sklearn.model_selection import train_test_split\n",
    "from sklearn.preprocessing import StandardScaler\n",
    "import matplotlib.pyplot as plt\n",
    "import seaborn as sns\n",
    "import pandas as pd\n",
    "%matplotlib inline\n",
    "\n",
    "import scanpy as sc\n",
    "import anndata as ad"
   ]
  },
  {
   "cell_type": "code",
   "execution_count": 2,
   "metadata": {},
   "outputs": [],
   "source": [
    "import matplotlib.pyplot as plt\n",
    "import networkx as nx\n",
    "import numpy as np\n",
    "from scipy.cluster import hierarchy\n",
    "from scipy.spatial import distance\n",
    "from collections import defaultdict\n",
    "\n",
    "\n",
    "def create_hc(G):\n",
    "    \"\"\"Creates hierarchical cluster of graph G from distance matrix\"\"\"\n",
    "    path_length = nx.all_pairs_shortest_path_length(G)\n",
    "    distances = np.zeros((len(G), len(G)))\n",
    "    for u, p in path_length:\n",
    "        for v, d in p.items():\n",
    "            distances[u][v] = d\n",
    "    # Create hierarchical cluster\n",
    "    Y = distance.squareform(distances)\n",
    "    Z = hierarchy.complete(Y)  # Creates HC using farthest point linkage\n",
    "    # This partition selection is arbitrary, for illustrive purposes\n",
    "    membership = list(hierarchy.fcluster(Z, t=1.15))\n",
    "    # Create collection of lists for blockmodel\n",
    "    partition = defaultdict(list)\n",
    "    for n, p in zip(list(range(len(G))), membership):\n",
    "        partition[p].append(n)\n",
    "    return list(partition.values())"
   ]
  },
  {
   "cell_type": "code",
   "execution_count": 3,
   "metadata": {},
   "outputs": [],
   "source": [
    "adata = ad.read_h5ad(\"CC_DD_Exp_energy_sugar.h5ad\")"
   ]
  },
  {
   "cell_type": "code",
   "execution_count": 4,
   "metadata": {},
   "outputs": [],
   "source": [
    "grnboost = pd.read_table(\"gene_energy_sugar_grnboost2.csv\", sep=\"\\t\")"
   ]
  },
  {
   "cell_type": "code",
   "execution_count": 77,
   "metadata": {},
   "outputs": [
    {
     "data": {
      "text/html": [
       "<div>\n",
       "<style scoped>\n",
       "    .dataframe tbody tr th:only-of-type {\n",
       "        vertical-align: middle;\n",
       "    }\n",
       "\n",
       "    .dataframe tbody tr th {\n",
       "        vertical-align: top;\n",
       "    }\n",
       "\n",
       "    .dataframe thead th {\n",
       "        text-align: right;\n",
       "    }\n",
       "</style>\n",
       "<table border=\"1\" class=\"dataframe\">\n",
       "  <thead>\n",
       "    <tr style=\"text-align: right;\">\n",
       "      <th></th>\n",
       "      <th>type</th>\n",
       "    </tr>\n",
       "  </thead>\n",
       "  <tbody>\n",
       "    <tr>\n",
       "      <th>novel.1295</th>\n",
       "      <td>gene</td>\n",
       "    </tr>\n",
       "    <tr>\n",
       "      <th>novel.1358</th>\n",
       "      <td>gene</td>\n",
       "    </tr>\n",
       "    <tr>\n",
       "      <th>novel.1445</th>\n",
       "      <td>gene</td>\n",
       "    </tr>\n",
       "    <tr>\n",
       "      <th>novel.6315</th>\n",
       "      <td>gene</td>\n",
       "    </tr>\n",
       "    <tr>\n",
       "      <th>novel.6318</th>\n",
       "      <td>gene</td>\n",
       "    </tr>\n",
       "    <tr>\n",
       "      <th>...</th>\n",
       "      <td>...</td>\n",
       "    </tr>\n",
       "    <tr>\n",
       "      <th>Glu</th>\n",
       "      <td>sugar</td>\n",
       "    </tr>\n",
       "    <tr>\n",
       "      <th>Inositol</th>\n",
       "      <td>sugar</td>\n",
       "    </tr>\n",
       "    <tr>\n",
       "      <th>Rha</th>\n",
       "      <td>sugar</td>\n",
       "    </tr>\n",
       "    <tr>\n",
       "      <th>Sorbitol</th>\n",
       "      <td>sugar</td>\n",
       "    </tr>\n",
       "    <tr>\n",
       "      <th>Ara</th>\n",
       "      <td>sugar</td>\n",
       "    </tr>\n",
       "  </tbody>\n",
       "</table>\n",
       "<p>7911 rows × 1 columns</p>\n",
       "</div>"
      ],
      "text/plain": [
       "             type\n",
       "novel.1295   gene\n",
       "novel.1358   gene\n",
       "novel.1445   gene\n",
       "novel.6315   gene\n",
       "novel.6318   gene\n",
       "...           ...\n",
       "Glu         sugar\n",
       "Inositol    sugar\n",
       "Rha         sugar\n",
       "Sorbitol    sugar\n",
       "Ara         sugar\n",
       "\n",
       "[7911 rows x 1 columns]"
      ]
     },
     "execution_count": 77,
     "metadata": {},
     "output_type": "execute_result"
    }
   ],
   "source": [
    "adata.var"
   ]
  },
  {
   "cell_type": "code",
   "execution_count": 78,
   "metadata": {},
   "outputs": [],
   "source": [
    "grnboost[\"TF_type\"] = adata.var.loc[grnboost[\"TF\"], \"type\"].to_list()\n",
    "grnboost[\"target_type\"] = adata.var.loc[grnboost[\"target\"], \"type\"].to_list()"
   ]
  },
  {
   "cell_type": "code",
   "execution_count": 82,
   "metadata": {},
   "outputs": [],
   "source": [
    "grnboost.to_csv(\"gene_energy_sugar_grnboost2_addtype.csv\", sep=\"\\t\",  index=False)"
   ]
  },
  {
   "cell_type": "code",
   "execution_count": 81,
   "metadata": {},
   "outputs": [
    {
     "data": {
      "text/html": [
       "<div>\n",
       "<style scoped>\n",
       "    .dataframe tbody tr th:only-of-type {\n",
       "        vertical-align: middle;\n",
       "    }\n",
       "\n",
       "    .dataframe tbody tr th {\n",
       "        vertical-align: top;\n",
       "    }\n",
       "\n",
       "    .dataframe thead th {\n",
       "        text-align: right;\n",
       "    }\n",
       "</style>\n",
       "<table border=\"1\" class=\"dataframe\">\n",
       "  <thead>\n",
       "    <tr style=\"text-align: right;\">\n",
       "      <th></th>\n",
       "      <th>TF</th>\n",
       "      <th>target</th>\n",
       "      <th>importance</th>\n",
       "      <th>cc</th>\n",
       "      <th>TF_type</th>\n",
       "      <th>target_type</th>\n",
       "    </tr>\n",
       "  </thead>\n",
       "  <tbody>\n",
       "    <tr>\n",
       "      <th>0</th>\n",
       "      <td>Glu</td>\n",
       "      <td>Fru</td>\n",
       "      <td>116.171872</td>\n",
       "      <td>1</td>\n",
       "      <td>sugar</td>\n",
       "      <td>sugar</td>\n",
       "    </tr>\n",
       "    <tr>\n",
       "      <th>1</th>\n",
       "      <td>Phosphorylethanolamine</td>\n",
       "      <td>Solyc11g007330.2</td>\n",
       "      <td>90.087377</td>\n",
       "      <td>1</td>\n",
       "      <td>energy</td>\n",
       "      <td>gene</td>\n",
       "    </tr>\n",
       "    <tr>\n",
       "      <th>2</th>\n",
       "      <td>D-Glucose-6-phosphate</td>\n",
       "      <td>D-Erythrose-4-phosphate</td>\n",
       "      <td>87.627098</td>\n",
       "      <td>1</td>\n",
       "      <td>energy</td>\n",
       "      <td>energy</td>\n",
       "    </tr>\n",
       "    <tr>\n",
       "      <th>3</th>\n",
       "      <td>Gal</td>\n",
       "      <td>novel.6101</td>\n",
       "      <td>84.876482</td>\n",
       "      <td>1</td>\n",
       "      <td>sugar</td>\n",
       "      <td>gene</td>\n",
       "    </tr>\n",
       "    <tr>\n",
       "      <th>4</th>\n",
       "      <td>ADP</td>\n",
       "      <td>ATP</td>\n",
       "      <td>82.078663</td>\n",
       "      <td>1</td>\n",
       "      <td>energy</td>\n",
       "      <td>energy</td>\n",
       "    </tr>\n",
       "  </tbody>\n",
       "</table>\n",
       "</div>"
      ],
      "text/plain": [
       "                       TF                   target  importance  cc TF_type  \\\n",
       "0                     Glu                      Fru  116.171872   1   sugar   \n",
       "1  Phosphorylethanolamine         Solyc11g007330.2   90.087377   1  energy   \n",
       "2   D-Glucose-6-phosphate  D-Erythrose-4-phosphate   87.627098   1  energy   \n",
       "3                     Gal               novel.6101   84.876482   1   sugar   \n",
       "4                     ADP                      ATP   82.078663   1  energy   \n",
       "\n",
       "  target_type  \n",
       "0       sugar  \n",
       "1        gene  \n",
       "2      energy  \n",
       "3        gene  \n",
       "4      energy  "
      ]
     },
     "execution_count": 81,
     "metadata": {},
     "output_type": "execute_result"
    }
   ],
   "source": [
    "grnboost.head()"
   ]
  },
  {
   "cell_type": "code",
   "execution_count": 65,
   "metadata": {},
   "outputs": [
    {
     "data": {
      "text/plain": [
       "<AxesSubplot: ylabel='Density'>"
      ]
     },
     "execution_count": 65,
     "metadata": {},
     "output_type": "execute_result"
    },
    {
     "data": {
      "image/png": "[encoded data removed]",
      "text/plain": [
       "<Figure size 432x288 with 1 Axes>"
      ]
     },
     "metadata": {
      "needs_background": "light"
     },
     "output_type": "display_data"
    }
   ],
   "source": [
    "grnboost['importance'].plot.density()"
   ]
  },
  {
   "cell_type": "code",
   "execution_count": 31,
   "metadata": {},
   "outputs": [
    {
     "data": {
      "text/plain": [
       "(403309, 4)"
      ]
     },
     "execution_count": 31,
     "metadata": {},
     "output_type": "execute_result"
    }
   ],
   "source": [
    "grnboost['cc'] = 1\n",
    "grnboost.shape"
   ]
  },
  {
   "cell_type": "code",
   "execution_count": 95,
   "metadata": {},
   "outputs": [
    {
     "data": {
      "text/plain": [
       "(2850, 6)"
      ]
     },
     "execution_count": 95,
     "metadata": {},
     "output_type": "execute_result"
    }
   ],
   "source": [
    "sub = grnboost.query('importance>=35')\n",
    "sub.shape"
   ]
  },
  {
   "cell_type": "code",
   "execution_count": 96,
   "metadata": {},
   "outputs": [
    {
     "name": "stderr",
     "output_type": "stream",
     "text": [
      "<ipython-input-96-7b59537c874b>:1: FutureWarning: The default value of numeric_only in DataFrameGroupBy.sum is deprecated. In a future version, numeric_only will default to False. Either specify numeric_only or select only columns which should be valid for the function.\n",
      "  sub.groupby([\"TF\"]).sum()['cc']\n"
     ]
    },
    {
     "data": {
      "text/plain": [
       "TF\n",
       "2-Phospho-D-glycerate          10\n",
       "6-Phosphogluconate-acid         3\n",
       "ADP                           103\n",
       "AMP                            13\n",
       "ATP                           151\n",
       "Acetyl-CoA                    151\n",
       "Adenine                         9\n",
       "Alpha-Ketoglutaric-acid         1\n",
       "Ara                            14\n",
       "Beta-Leucine                   21\n",
       "Citric-acid                   122\n",
       "D-Erythrose-4-phosphate        16\n",
       "D-Glucose-1-phosphate          19\n",
       "D-Glucose-6-phosphate          10\n",
       "D-Glutamine                     3\n",
       "D-Ribulose-5-phosphate          8\n",
       "Dihydroxyacetone-phosphate     14\n",
       "Fru                            25\n",
       "Fructose-1,6-bisphosphate       2\n",
       "Fuc                             4\n",
       "Gal                            50\n",
       "Glu                             1\n",
       "Glycerol-3-phosphate           11\n",
       "IMP                             5\n",
       "Inositol                        2\n",
       "Isocitric-acid                  3\n",
       "L-Alanine                      50\n",
       "L-Arginine                     19\n",
       "L-Asparagine                   44\n",
       "L-Citrulline                    9\n",
       "L-Glutamate                    32\n",
       "L-Lactate                       8\n",
       "L-Serine                        1\n",
       "L-Threonine                    12\n",
       "L-Tyrosine                    127\n",
       "Lysine                        105\n",
       "Ornithine                       3\n",
       "Phosphoenolpyruvic-acid        62\n",
       "Phosphorylethanolamine        450\n",
       "Pyruvic-acid                   11\n",
       "Rha                            51\n",
       "Sedoheptulose-7-phosphate       9\n",
       "Sorbitol                        1\n",
       "Suc                           790\n",
       "Succinic-acid                  60\n",
       "UDP-GlcNAc                     12\n",
       "UMP                            11\n",
       "Uracil                        160\n",
       "cyclic-AMP                     52\n",
       "Name: cc, dtype: int64"
      ]
     },
     "execution_count": 96,
     "metadata": {},
     "output_type": "execute_result"
    }
   ],
   "source": [
    "sub.groupby([\"TF\"]).sum()['cc']"
   ]
  },
  {
   "cell_type": "code",
   "execution_count": 90,
   "metadata": {},
   "outputs": [
    {
     "data": {
      "text/html": [
       "<div>\n",
       "<style scoped>\n",
       "    .dataframe tbody tr th:only-of-type {\n",
       "        vertical-align: middle;\n",
       "    }\n",
       "\n",
       "    .dataframe tbody tr th {\n",
       "        vertical-align: top;\n",
       "    }\n",
       "\n",
       "    .dataframe thead th {\n",
       "        text-align: right;\n",
       "    }\n",
       "</style>\n",
       "<table border=\"1\" class=\"dataframe\">\n",
       "  <thead>\n",
       "    <tr style=\"text-align: right;\">\n",
       "      <th></th>\n",
       "      <th>TF</th>\n",
       "      <th>target</th>\n",
       "      <th>importance</th>\n",
       "      <th>cc</th>\n",
       "      <th>TF_type</th>\n",
       "      <th>target_type</th>\n",
       "    </tr>\n",
       "  </thead>\n",
       "  <tbody>\n",
       "    <tr>\n",
       "      <th>100</th>\n",
       "      <td>Acetyl-CoA</td>\n",
       "      <td>Solyc03g044190.3</td>\n",
       "      <td>60.176854</td>\n",
       "      <td>1</td>\n",
       "      <td>energy</td>\n",
       "      <td>gene</td>\n",
       "    </tr>\n",
       "    <tr>\n",
       "      <th>165</th>\n",
       "      <td>Acetyl-CoA</td>\n",
       "      <td>ATP</td>\n",
       "      <td>56.734989</td>\n",
       "      <td>1</td>\n",
       "      <td>energy</td>\n",
       "      <td>energy</td>\n",
       "    </tr>\n",
       "    <tr>\n",
       "      <th>227</th>\n",
       "      <td>Acetyl-CoA</td>\n",
       "      <td>Solyc07g063520.3</td>\n",
       "      <td>54.424831</td>\n",
       "      <td>1</td>\n",
       "      <td>energy</td>\n",
       "      <td>gene</td>\n",
       "    </tr>\n",
       "    <tr>\n",
       "      <th>310</th>\n",
       "      <td>Acetyl-CoA</td>\n",
       "      <td>Solyc05g008400.4</td>\n",
       "      <td>51.974040</td>\n",
       "      <td>1</td>\n",
       "      <td>energy</td>\n",
       "      <td>gene</td>\n",
       "    </tr>\n",
       "    <tr>\n",
       "      <th>324</th>\n",
       "      <td>Acetyl-CoA</td>\n",
       "      <td>Solyc06g066420.4</td>\n",
       "      <td>51.664079</td>\n",
       "      <td>1</td>\n",
       "      <td>energy</td>\n",
       "      <td>gene</td>\n",
       "    </tr>\n",
       "    <tr>\n",
       "      <th>...</th>\n",
       "      <td>...</td>\n",
       "      <td>...</td>\n",
       "      <td>...</td>\n",
       "      <td>...</td>\n",
       "      <td>...</td>\n",
       "      <td>...</td>\n",
       "    </tr>\n",
       "    <tr>\n",
       "      <th>10072</th>\n",
       "      <td>Acetyl-CoA</td>\n",
       "      <td>Solyc04g077120.4</td>\n",
       "      <td>25.032266</td>\n",
       "      <td>1</td>\n",
       "      <td>energy</td>\n",
       "      <td>gene</td>\n",
       "    </tr>\n",
       "    <tr>\n",
       "      <th>10079</th>\n",
       "      <td>Acetyl-CoA</td>\n",
       "      <td>Solyc09g007870.3</td>\n",
       "      <td>25.025567</td>\n",
       "      <td>1</td>\n",
       "      <td>energy</td>\n",
       "      <td>gene</td>\n",
       "    </tr>\n",
       "    <tr>\n",
       "      <th>10083</th>\n",
       "      <td>Acetyl-CoA</td>\n",
       "      <td>Solyc02g081210.3</td>\n",
       "      <td>25.023172</td>\n",
       "      <td>1</td>\n",
       "      <td>energy</td>\n",
       "      <td>gene</td>\n",
       "    </tr>\n",
       "    <tr>\n",
       "      <th>10098</th>\n",
       "      <td>Acetyl-CoA</td>\n",
       "      <td>Solyc08g060925.1</td>\n",
       "      <td>25.009462</td>\n",
       "      <td>1</td>\n",
       "      <td>energy</td>\n",
       "      <td>gene</td>\n",
       "    </tr>\n",
       "    <tr>\n",
       "      <th>10099</th>\n",
       "      <td>Acetyl-CoA</td>\n",
       "      <td>Solyc11g044900.2</td>\n",
       "      <td>25.007718</td>\n",
       "      <td>1</td>\n",
       "      <td>energy</td>\n",
       "      <td>gene</td>\n",
       "    </tr>\n",
       "  </tbody>\n",
       "</table>\n",
       "<p>711 rows × 6 columns</p>\n",
       "</div>"
      ],
      "text/plain": [
       "               TF            target  importance  cc TF_type target_type\n",
       "100    Acetyl-CoA  Solyc03g044190.3   60.176854   1  energy        gene\n",
       "165    Acetyl-CoA               ATP   56.734989   1  energy      energy\n",
       "227    Acetyl-CoA  Solyc07g063520.3   54.424831   1  energy        gene\n",
       "310    Acetyl-CoA  Solyc05g008400.4   51.974040   1  energy        gene\n",
       "324    Acetyl-CoA  Solyc06g066420.4   51.664079   1  energy        gene\n",
       "...           ...               ...         ...  ..     ...         ...\n",
       "10072  Acetyl-CoA  Solyc04g077120.4   25.032266   1  energy        gene\n",
       "10079  Acetyl-CoA  Solyc09g007870.3   25.025567   1  energy        gene\n",
       "10083  Acetyl-CoA  Solyc02g081210.3   25.023172   1  energy        gene\n",
       "10098  Acetyl-CoA  Solyc08g060925.1   25.009462   1  energy        gene\n",
       "10099  Acetyl-CoA  Solyc11g044900.2   25.007718   1  energy        gene\n",
       "\n",
       "[711 rows x 6 columns]"
      ]
     },
     "execution_count": 90,
     "metadata": {},
     "output_type": "execute_result"
    }
   ],
   "source": [
    "sub.query('TF==\"Acetyl-CoA\"')"
   ]
  },
  {
   "cell_type": "code",
   "execution_count": 25,
   "metadata": {},
   "outputs": [
    {
     "data": {
      "text/html": [
       "<div>\n",
       "<style scoped>\n",
       "    .dataframe tbody tr th:only-of-type {\n",
       "        vertical-align: middle;\n",
       "    }\n",
       "\n",
       "    .dataframe tbody tr th {\n",
       "        vertical-align: top;\n",
       "    }\n",
       "\n",
       "    .dataframe thead th {\n",
       "        text-align: right;\n",
       "    }\n",
       "</style>\n",
       "<table border=\"1\" class=\"dataframe\">\n",
       "  <thead>\n",
       "    <tr style=\"text-align: right;\">\n",
       "      <th></th>\n",
       "      <th>TF</th>\n",
       "      <th>target</th>\n",
       "      <th>importance</th>\n",
       "    </tr>\n",
       "  </thead>\n",
       "  <tbody>\n",
       "    <tr>\n",
       "      <th>0</th>\n",
       "      <td>Glu</td>\n",
       "      <td>Fru</td>\n",
       "      <td>116.171872</td>\n",
       "    </tr>\n",
       "    <tr>\n",
       "      <th>3734</th>\n",
       "      <td>Glu</td>\n",
       "      <td>Fuc</td>\n",
       "      <td>32.904013</td>\n",
       "    </tr>\n",
       "    <tr>\n",
       "      <th>10766</th>\n",
       "      <td>Glu</td>\n",
       "      <td>Solyc12g011033.1</td>\n",
       "      <td>24.490848</td>\n",
       "    </tr>\n",
       "    <tr>\n",
       "      <th>12075</th>\n",
       "      <td>Glu</td>\n",
       "      <td>Solyc09g014580.3</td>\n",
       "      <td>23.538290</td>\n",
       "    </tr>\n",
       "    <tr>\n",
       "      <th>14254</th>\n",
       "      <td>Glu</td>\n",
       "      <td>Solyc05g046030.4</td>\n",
       "      <td>22.183185</td>\n",
       "    </tr>\n",
       "    <tr>\n",
       "      <th>15718</th>\n",
       "      <td>Glu</td>\n",
       "      <td>Solyc12g011037.1</td>\n",
       "      <td>21.407015</td>\n",
       "    </tr>\n",
       "    <tr>\n",
       "      <th>16393</th>\n",
       "      <td>Glu</td>\n",
       "      <td>Solyc07g026650.3</td>\n",
       "      <td>21.091767</td>\n",
       "    </tr>\n",
       "    <tr>\n",
       "      <th>18131</th>\n",
       "      <td>Glu</td>\n",
       "      <td>Solyc07g007350.1</td>\n",
       "      <td>20.255390</td>\n",
       "    </tr>\n",
       "  </tbody>\n",
       "</table>\n",
       "</div>"
      ],
      "text/plain": [
       "        TF            target  importance\n",
       "0      Glu               Fru  116.171872\n",
       "3734   Glu               Fuc   32.904013\n",
       "10766  Glu  Solyc12g011033.1   24.490848\n",
       "12075  Glu  Solyc09g014580.3   23.538290\n",
       "14254  Glu  Solyc05g046030.4   22.183185\n",
       "15718  Glu  Solyc12g011037.1   21.407015\n",
       "16393  Glu  Solyc07g026650.3   21.091767\n",
       "18131  Glu  Solyc07g007350.1   20.255390"
      ]
     },
     "execution_count": 25,
     "metadata": {},
     "output_type": "execute_result"
    }
   ],
   "source": [
    "sub.query('TF==\"Glu\"')"
   ]
  },
  {
   "cell_type": "code",
   "execution_count": 28,
   "metadata": {},
   "outputs": [
    {
     "data": {
      "text/plain": [
       "array(['Glu', 'Phosphorylethanolamine', 'D-Glucose-6-phosphate', 'Gal',\n",
       "       'ADP', 'L-Tyrosine', 'Phosphoenolpyruvic-acid',\n",
       "       'D-Erythrose-4-phosphate', 'Suc', 'Uracil',\n",
       "       '2-Phospho-D-glycerate', 'Citric-acid', 'D-Glucose-1-phosphate',\n",
       "       'AMP', 'Lysine', 'Acetyl-CoA', 'Beta-Leucine', 'L-Arginine',\n",
       "       'L-Glutamate', 'Sedoheptulose-7-phosphate', 'L-Asparagine',\n",
       "       'L-Threonine', 'L-Alanine', 'Succinic-acid', 'ATP', 'Fru',\n",
       "       'Ornithine', 'Rha', 'Pyruvic-acid', 'UDP-GlcNAc', 'cyclic-AMP',\n",
       "       'UMP', 'D-Ribulose-5-phosphate', 'IMP', 'D-Glutamine', 'L-Lactate',\n",
       "       '6-Phosphogluconate-acid', 'Dihydroxyacetone-phosphate', 'Ara',\n",
       "       'Inositol', 'Glycerol-3-phosphate', 'Fuc', 'Adenine',\n",
       "       'Isocitric-acid', 'L-Citrulline', 'Sorbitol',\n",
       "       'Fructose-1,6-bisphosphate', 'L-Serine', 'Alpha-Ketoglutaric-acid',\n",
       "       'Guanosine', 'FMN'], dtype=object)"
      ]
     },
     "execution_count": 28,
     "metadata": {},
     "output_type": "execute_result"
    }
   ],
   "source": [
    "sub[\"TF\"].unique()"
   ]
  },
  {
   "cell_type": "code",
   "execution_count": 30,
   "metadata": {},
   "outputs": [
    {
     "data": {
      "text/plain": [
       "6570"
      ]
     },
     "execution_count": 30,
     "metadata": {},
     "output_type": "execute_result"
    }
   ],
   "source": [
    "len(sub[\"target\"].unique())"
   ]
  },
  {
   "cell_type": "code",
   "execution_count": 58,
   "metadata": {},
   "outputs": [],
   "source": [
    "from networkx.algorithms import bipartite\n",
    "G = nx.path_graph(4)\n",
    "G.add_nodes_from([0, 2], bipartite=0, weight=1)\n",
    "G.add_nodes_from([1, 3], bipartite=1, weight=3)\n",
    "bipartite.write_edgelist(G, \"test.edgelist\")\n",
    "G = bipartite.read_edgelist(\"test.edgelist\")\n",
    "\n",
    "fh = open(\"test.edgelist\", \"rb\")\n",
    "\n",
    "fh.close()"
   ]
  },
  {
   "cell_type": "code",
   "execution_count": null,
   "metadata": {},
   "outputs": [],
   "source": []
  },
  {
   "cell_type": "code",
   "execution_count": 60,
   "metadata": {},
   "outputs": [],
   "source": [
    "G = nx.read_edgelist(\"test.edgelist\", nodetype=int)\n",
    "H = G.subgraph(next(nx.connected_components(G)))"
   ]
  },
  {
   "cell_type": "code",
   "execution_count": 61,
   "metadata": {},
   "outputs": [],
   "source": [
    "partitions = create_hc(H)\n",
    "# Build blockmodel graph\n",
    "BM = nx.quotient_graph(H, partitions, relabel=True)\n",
    "\n",
    "# Draw original graph\n",
    "pos = nx.spring_layout(H, iterations=100, seed=83) \n",
    "\n"
   ]
  },
  {
   "cell_type": "code",
   "execution_count": 62,
   "metadata": {},
   "outputs": [
    {
     "data": {
      "image/png": "[encoded data removed]",
      "text/plain": [
       "<Figure size 432x288 with 1 Axes>"
      ]
     },
     "metadata": {},
     "output_type": "display_data"
    }
   ],
   "source": [
    "nx.draw(H, pos, with_labels=False, node_size=10)"
   ]
  },
  {
   "cell_type": "code",
   "execution_count": null,
   "metadata": {},
   "outputs": [],
   "source": []
  },
  {
   "cell_type": "code",
   "execution_count": null,
   "metadata": {},
   "outputs": [],
   "source": []
  },
  {
   "cell_type": "code",
   "execution_count": null,
   "metadata": {},
   "outputs": [],
   "source": []
  },
  {
   "cell_type": "code",
   "execution_count": null,
   "metadata": {},
   "outputs": [],
   "source": []
  },
  {
   "cell_type": "code",
   "execution_count": null,
   "metadata": {},
   "outputs": [],
   "source": []
  },
  {
   "cell_type": "code",
   "execution_count": null,
   "metadata": {},
   "outputs": [],
   "source": []
  },
  {
   "cell_type": "code",
   "execution_count": null,
   "metadata": {},
   "outputs": [],
   "source": []
  }
 ],
 "metadata": {
  "kernelspec": {
   "display_name": "Python 3",
   "language": "python",
   "name": "python3"
  },
  "language_info": {
   "codemirror_mode": {
    "name": "ipython",
    "version": 3
   },
   "file_extension": ".py",
   "mimetype": "text/x-python",
   "name": "python",
   "nbconvert_exporter": "python",
   "pygments_lexer": "ipython3",
   "version": "3.8.5"
  }
 },
 "nbformat": 4,
 "nbformat_minor": 4
}
