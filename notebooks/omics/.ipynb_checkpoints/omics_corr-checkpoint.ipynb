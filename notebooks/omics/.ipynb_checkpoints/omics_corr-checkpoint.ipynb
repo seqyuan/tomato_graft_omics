{
 "cells": [
  {
   "cell_type": "code",
   "execution_count": 3,
   "metadata": {},
   "outputs": [],
   "source": [
    "import pandas as pd\n",
    "import os, sys"
   ]
  },
  {
   "cell_type": "code",
   "execution_count": 2,
   "metadata": {},
   "outputs": [],
   "source": [
    "dataDir = '/Users/yuanzan/Documents/phd/tomato_metabolic/作图2.19/K-MEANS/'"
   ]
  },
  {
   "cell_type": "code",
   "execution_count": null,
   "metadata": {},
   "outputs": [],
   "source": []
  },
  {
   "cell_type": "markdown",
   "metadata": {},
   "source": [
    "## read gene exp fpkm"
   ]
  },
  {
   "cell_type": "code",
   "execution_count": null,
   "metadata": {},
   "outputs": [],
   "source": [
    "gene_Exp = pd.read_excel(\"/Users/yuanzan/Documents/phd/tomato_metabolic/作图2.19/K-MEANS/gene.expression.annot.xlsx\", index_col=0)\n",
    "#import datatable as dt\n",
    "#gene_Exp = dt.fread(\"/Users/yuanzan/Documents/phd/tomato_metabolic/作图2.19/K-MEANS/gene.expression.annot.xlsx\")\n",
    "#gene_Exp = gene_Exp.to_pandas()\n",
    "cluster_genes = pd.read_table(\"../cluster_TFs/CC_cluster_genes.csv\", sep=\",\", index_col=1)\n"
   ]
  },
  {
   "cell_type": "code",
   "execution_count": 84,
   "metadata": {},
   "outputs": [],
   "source": [
    "gene_Exp = gene_Exp.loc[:,gene_Exp.columns.str.contains('_fpkm')==True]\n",
    "gene_Exp = gene_Exp.loc[cluster_genes.index,:]\n",
    "#gene_Exp = gene_Exp.iloc[:,0:348]"
   ]
  },
  {
   "cell_type": "code",
   "execution_count": 85,
   "metadata": {},
   "outputs": [],
   "source": [
    "gene_Exp_metadata = pd.DataFrame({\"sample\":gene_Exp.columns}, index = gene_Exp.columns)\n",
    "gene_Exp_metadata['sample'] = gene_Exp_metadata['sample'].str.split(\"_fpkm\", expand=True)[0]"
   ]
  },
  {
   "cell_type": "code",
   "execution_count": 86,
   "metadata": {},
   "outputs": [
    {
     "data": {
      "text/plain": [
       "(174, 1)"
      ]
     },
     "execution_count": 86,
     "metadata": {},
     "output_type": "execute_result"
    }
   ],
   "source": [
    "gene_Exp_metadata.shape"
   ]
  },
  {
   "cell_type": "markdown",
   "metadata": {},
   "source": [
    "## read energy"
   ]
  },
  {
   "cell_type": "code",
   "execution_count": 50,
   "metadata": {},
   "outputs": [],
   "source": [
    "energy = pd.read_excel(\"/Users/yuanzan/Documents/phd/tomato_metabolic/作图2.19/K-MEANS/energy.levels.xlsx\", sheet_name=0, index_col=0)\n",
    "energy = energy.iloc[:,2:]\n",
    "\n",
    "energy_metadata = pd.DataFrame({\"sample\":energy.columns}, index = energy.columns)\n",
    "energy_metadata['sample'] = energy_metadata['sample'].str.split(\"E_\", expand=True)[1]"
   ]
  },
  {
   "cell_type": "code",
   "execution_count": 51,
   "metadata": {},
   "outputs": [
    {
     "data": {
      "text/plain": [
       "(174, 1)"
      ]
     },
     "execution_count": 51,
     "metadata": {},
     "output_type": "execute_result"
    }
   ],
   "source": [
    "energy_metadata.shape"
   ]
  },
  {
   "cell_type": "code",
   "execution_count": 43,
   "metadata": {},
   "outputs": [
    {
     "data": {
      "text/plain": [
       "(7860, 348)"
      ]
     },
     "execution_count": 43,
     "metadata": {},
     "output_type": "execute_result"
    }
   ],
   "source": [
    "gene_Exp.shape"
   ]
  },
  {
   "cell_type": "markdown",
   "metadata": {},
   "source": [
    "## read sugar"
   ]
  },
  {
   "cell_type": "code",
   "execution_count": 67,
   "metadata": {},
   "outputs": [],
   "source": [
    "sugar = pd.read_excel(\"/Users/yuanzan/Documents/phd/tomato_metabolic/作图2.19/K-MEANS/sugar.levels.xlsx\", sheet_name=0, index_col=0)\n",
    "sugar = sugar.iloc[:,11:185]\n",
    "sugar_metadata = pd.DataFrame({\"sample\":sugar.columns}, index = sugar.columns)\n",
    "sugar_metadata['sample'] = sugar_metadata['sample'].str.split(\"S_\", expand=True)[1]"
   ]
  },
  {
   "cell_type": "code",
   "execution_count": 68,
   "metadata": {},
   "outputs": [
    {
     "data": {
      "text/plain": [
       "(174, 1)"
      ]
     },
     "execution_count": 68,
     "metadata": {},
     "output_type": "execute_result"
    }
   ],
   "source": [
    "sugar_metadata.shape"
   ]
  },
  {
   "cell_type": "code",
   "execution_count": 69,
   "metadata": {},
   "outputs": [
    {
     "data": {
      "text/html": [
       "<div>\n",
       "<style scoped>\n",
       "    .dataframe tbody tr th:only-of-type {\n",
       "        vertical-align: middle;\n",
       "    }\n",
       "\n",
       "    .dataframe tbody tr th {\n",
       "        vertical-align: top;\n",
       "    }\n",
       "\n",
       "    .dataframe thead th {\n",
       "        text-align: right;\n",
       "    }\n",
       "</style>\n",
       "<table border=\"1\" class=\"dataframe\">\n",
       "  <thead>\n",
       "    <tr style=\"text-align: right;\">\n",
       "      <th></th>\n",
       "      <th>sample</th>\n",
       "    </tr>\n",
       "  </thead>\n",
       "  <tbody>\n",
       "    <tr>\n",
       "      <th>S_C0h-1</th>\n",
       "      <td>C0h-1</td>\n",
       "    </tr>\n",
       "    <tr>\n",
       "      <th>S_C0h-2</th>\n",
       "      <td>C0h-2</td>\n",
       "    </tr>\n",
       "    <tr>\n",
       "      <th>S_C0h-3</th>\n",
       "      <td>C0h-3</td>\n",
       "    </tr>\n",
       "    <tr>\n",
       "      <th>S_C120h-1</th>\n",
       "      <td>C120h-1</td>\n",
       "    </tr>\n",
       "    <tr>\n",
       "      <th>S_C120h-2</th>\n",
       "      <td>C120h-2</td>\n",
       "    </tr>\n",
       "    <tr>\n",
       "      <th>...</th>\n",
       "      <td>...</td>\n",
       "    </tr>\n",
       "    <tr>\n",
       "      <th>S_DD84h-2</th>\n",
       "      <td>DD84h-2</td>\n",
       "    </tr>\n",
       "    <tr>\n",
       "      <th>S_DD84h-3</th>\n",
       "      <td>DD84h-3</td>\n",
       "    </tr>\n",
       "    <tr>\n",
       "      <th>S_DD96h-1</th>\n",
       "      <td>DD96h-1</td>\n",
       "    </tr>\n",
       "    <tr>\n",
       "      <th>S_DD96h-2</th>\n",
       "      <td>DD96h-2</td>\n",
       "    </tr>\n",
       "    <tr>\n",
       "      <th>S_DD96h-3</th>\n",
       "      <td>DD96h-3</td>\n",
       "    </tr>\n",
       "  </tbody>\n",
       "</table>\n",
       "<p>174 rows × 1 columns</p>\n",
       "</div>"
      ],
      "text/plain": [
       "            sample\n",
       "S_C0h-1      C0h-1\n",
       "S_C0h-2      C0h-2\n",
       "S_C0h-3      C0h-3\n",
       "S_C120h-1  C120h-1\n",
       "S_C120h-2  C120h-2\n",
       "...            ...\n",
       "S_DD84h-2  DD84h-2\n",
       "S_DD84h-3  DD84h-3\n",
       "S_DD96h-1  DD96h-1\n",
       "S_DD96h-2  DD96h-2\n",
       "S_DD96h-3  DD96h-3\n",
       "\n",
       "[174 rows x 1 columns]"
      ]
     },
     "execution_count": 69,
     "metadata": {},
     "output_type": "execute_result"
    }
   ],
   "source": [
    "sugar_metadata"
   ]
  },
  {
   "cell_type": "code",
   "execution_count": 87,
   "metadata": {},
   "outputs": [],
   "source": [
    "gene_Exp.columns = gene_Exp_metadata['sample']\n",
    "energy.columns = energy_metadata['sample']\n",
    "sugar.columns = sugar_metadata['sample']"
   ]
  },
  {
   "cell_type": "code",
   "execution_count": 93,
   "metadata": {},
   "outputs": [],
   "source": [
    "data = pd.concat([gene_Exp, energy, sugar], axis=0)"
   ]
  },
  {
   "cell_type": "code",
   "execution_count": 91,
   "metadata": {},
   "outputs": [
    {
     "data": {
      "text/plain": [
       "anndata._core.anndata.AnnData"
      ]
     },
     "execution_count": 91,
     "metadata": {},
     "output_type": "execute_result"
    }
   ],
   "source": [
    "import anndata as ad\n"
   ]
  },
  {
   "cell_type": "code",
   "execution_count": 96,
   "metadata": {},
   "outputs": [],
   "source": [
    "adata = ad.AnnData(data.T)"
   ]
  },
  {
   "cell_type": "code",
   "execution_count": 110,
   "metadata": {},
   "outputs": [],
   "source": [
    "CCDD_cluster_gene7860_type = pd.read_csv(\"../cluster_TFs/CCDD_cluster_gene7860_type.csv\", sep=\",\")"
   ]
  },
  {
   "cell_type": "code",
   "execution_count": 115,
   "metadata": {},
   "outputs": [],
   "source": [
    "adata.var[\"type\"] = 'gene'\n",
    "adata.var.loc[adata.var.index.isin(energy.index), 'type'] = 'energy'\n",
    "adata.var.loc[adata.var.index.isin(sugar.index), 'type'] = 'sugar'\n",
    "adata.var.loc[adata.var.index.isin(CCDD_cluster_gene7860_type[CCDD_cluster_gene7860_type[\"TF-Category\"]==\"TF\"][\"gene\"]), 'type'] = 'TF'\n",
    "adata.var.loc[adata.var.index.isin(CCDD_cluster_gene7860_type[CCDD_cluster_gene7860_type[\"TF-Category\"]==\"TR\"][\"gene\"]), 'type'] = 'TR'"
   ]
  },
  {
   "cell_type": "code",
   "execution_count": 118,
   "metadata": {},
   "outputs": [
    {
     "data": {
      "text/plain": [
       "array(['gene', 'TF', 'TR', 'energy', 'sugar'], dtype=object)"
      ]
     },
     "execution_count": 118,
     "metadata": {},
     "output_type": "execute_result"
    }
   ],
   "source": [
    "adata.var['type'].unique()"
   ]
  },
  {
   "cell_type": "code",
   "execution_count": 119,
   "metadata": {},
   "outputs": [
    {
     "name": "stderr",
     "output_type": "stream",
     "text": [
      "/Users/yuanzan/anaconda3/lib/python3.8/site-packages/anndata/_core/anndata.py:1220: FutureWarning: The `inplace` parameter in pandas.Categorical.reorder_categories is deprecated and will be removed in a future version. Reordering categories will always return a new Categorical object.\n",
      "  c.reorder_categories(natsorted(c.categories), inplace=True)\n",
      "... storing 'type' as categorical\n"
     ]
    }
   ],
   "source": [
    "adata.write(\"CC_DD_Exp_energy_sugar.h5ad\")"
   ]
  },
  {
   "cell_type": "code",
   "execution_count": null,
   "metadata": {},
   "outputs": [],
   "source": []
  },
  {
   "cell_type": "code",
   "execution_count": null,
   "metadata": {},
   "outputs": [],
   "source": []
  },
  {
   "cell_type": "code",
   "execution_count": null,
   "metadata": {},
   "outputs": [],
   "source": []
  },
  {
   "cell_type": "code",
   "execution_count": null,
   "metadata": {},
   "outputs": [],
   "source": []
  },
  {
   "cell_type": "code",
   "execution_count": null,
   "metadata": {},
   "outputs": [],
   "source": []
  },
  {
   "cell_type": "code",
   "execution_count": null,
   "metadata": {},
   "outputs": [],
   "source": []
  }
 ],
 "metadata": {
  "kernelspec": {
   "display_name": "Python 3",
   "language": "python",
   "name": "python3"
  },
  "language_info": {
   "codemirror_mode": {
    "name": "ipython",
    "version": 3
   },
   "file_extension": ".py",
   "mimetype": "text/x-python",
   "name": "python",
   "nbconvert_exporter": "python",
   "pygments_lexer": "ipython3",
   "version": "3.8.5"
  }
 },
 "nbformat": 4,
 "nbformat_minor": 4
}
