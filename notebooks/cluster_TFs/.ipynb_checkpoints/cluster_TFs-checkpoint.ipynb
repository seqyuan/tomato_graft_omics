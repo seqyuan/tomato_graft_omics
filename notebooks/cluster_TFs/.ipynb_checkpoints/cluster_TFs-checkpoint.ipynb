{
 "cells": [
  {
   "cell_type": "markdown",
   "metadata": {},
   "source": [
    "# cluster TFs"
   ]
  },
  {
   "cell_type": "code",
   "execution_count": 2,
   "metadata": {},
   "outputs": [],
   "source": [
    "CC_FC_cm <- readRDS(paste0(\"/Users/yuanzan/Documents/phd/tomato_metabolic/upsetR/CC_DD_DE_overlap/mfuzz_data/CC_FC_cm_cluster\", 18,\".rds\"))\n",
    "DD_FC_cm <- readRDS(paste0(\"/Users/yuanzan/Documents/phd/tomato_metabolic/upsetR/CC_DD_DE_overlap/mfuzz_data/DD_FC_cm_cluster\", 18,\".rds\"))"
   ]
  },
  {
   "cell_type": "code",
   "execution_count": 8,
   "metadata": {},
   "outputs": [
    {
     "data": {
      "text/html": [
       "<style>\n",
       ".list-inline {list-style: none; margin:0; padding: 0}\n",
       ".list-inline>li {display: inline-block}\n",
       ".list-inline>li:not(:last-child)::after {content: \"\\00b7\"; padding: 0 .5ex}\n",
       "</style>\n",
       "<ol class=list-inline><li>7860</li><li>14</li></ol>\n"
      ],
      "text/latex": [
       "\\begin{enumerate*}\n",
       "\\item 7860\n",
       "\\item 14\n",
       "\\end{enumerate*}\n"
      ],
      "text/markdown": [
       "1. 7860\n",
       "2. 14\n",
       "\n",
       "\n"
      ],
      "text/plain": [
       "[1] 7860   14"
      ]
     },
     "metadata": {},
     "output_type": "display_data"
    },
    {
     "data": {
      "text/html": [
       "<style>\n",
       ".list-inline {list-style: none; margin:0; padding: 0}\n",
       ".list-inline>li {display: inline-block}\n",
       ".list-inline>li:not(:last-child)::after {content: \"\\00b7\"; padding: 0 .5ex}\n",
       "</style>\n",
       "<ol class=list-inline><li>7860</li><li>14</li></ol>\n"
      ],
      "text/latex": [
       "\\begin{enumerate*}\n",
       "\\item 7860\n",
       "\\item 14\n",
       "\\end{enumerate*}\n"
      ],
      "text/markdown": [
       "1. 7860\n",
       "2. 14\n",
       "\n",
       "\n"
      ],
      "text/plain": [
       "[1] 7860   14"
      ]
     },
     "metadata": {},
     "output_type": "display_data"
    }
   ],
   "source": [
    "dim(CC_FC_cm$wide.res)\n",
    "dim(DD_FC_cm$wide.res)"
   ]
  },
  {
   "cell_type": "code",
   "execution_count": 14,
   "metadata": {},
   "outputs": [],
   "source": [
    "CC_cluster_genes <- CC_FC_cm$wide.res[,c(\"gene\", \"cluster\")]\n",
    "DD_cluster_genes <- DD_FC_cm$wide.res[,c(\"gene\", \"cluster\")]"
   ]
  },
  {
   "cell_type": "code",
   "execution_count": 15,
   "metadata": {},
   "outputs": [],
   "source": [
    "write.csv(CC_cluster_genes, \"CC_cluster_genes.csv\")\n",
    "write.csv(DD_cluster_genes, \"DD_cluster_genes.csv\")"
   ]
  },
  {
   "cell_type": "markdown",
   "metadata": {},
   "source": [
    "# python code"
   ]
  },
  {
   "cell_type": "code",
   "execution_count": 5,
   "metadata": {},
   "outputs": [],
   "source": [
    "import pandas as pd\n",
    "gene_Exp = pd.read_excel(\"/Users/yuanzan/Documents/phd/tomato_metabolic/作图2.19/K-MEANS/gene.expression.annot.xlsx\", index_col=0)"
   ]
  },
  {
   "cell_type": "code",
   "execution_count": 6,
   "metadata": {},
   "outputs": [],
   "source": [
    "CC_cluster_genes = pd.read_table(\"CC_cluster_genes.csv\", sep=\",\", index_col=1)\n",
    "DD_cluster_genes = pd.read_table(\"DD_cluster_genes.csv\", sep=\",\", index_col=1)\n"
   ]
  },
  {
   "cell_type": "code",
   "execution_count": null,
   "metadata": {},
   "outputs": [],
   "source": [
    "gene_Exp"
   ]
  },
  {
   "cell_type": "code",
   "execution_count": null,
   "metadata": {},
   "outputs": [],
   "source": []
  },
  {
   "cell_type": "code",
   "execution_count": null,
   "metadata": {},
   "outputs": [],
   "source": []
  },
  {
   "cell_type": "code",
   "execution_count": 7,
   "metadata": {},
   "outputs": [],
   "source": [
    "gene_Exp = gene_Exp.iloc[:,362:365]"
   ]
  },
  {
   "cell_type": "code",
   "execution_count": 9,
   "metadata": {},
   "outputs": [
    {
     "data": {
      "text/plain": [
       "TF-Family            --\n",
       "TF-Category          --\n",
       "TF-Classification    --\n",
       "Name: Solyc10g083300.2, dtype: object"
      ]
     },
     "execution_count": 9,
     "metadata": {},
     "output_type": "execute_result"
    }
   ],
   "source": [
    "gene_Exp.loc[\"Solyc10g083300.2\", :]"
   ]
  },
  {
   "cell_type": "code",
   "execution_count": null,
   "metadata": {},
   "outputs": [],
   "source": []
  },
  {
   "cell_type": "code",
   "execution_count": null,
   "metadata": {},
   "outputs": [],
   "source": [
    "gene_Exp"
   ]
  },
  {
   "cell_type": "code",
   "execution_count": 4,
   "metadata": {},
   "outputs": [],
   "source": [
    "gene_Exp = gene_Exp.loc[CC_cluster_genes.index,:]"
   ]
  },
  {
   "cell_type": "code",
   "execution_count": 154,
   "metadata": {},
   "outputs": [],
   "source": [
    "gene_Exp.to_csv(\"CCDD_cluster_gene7860_type.csv\")"
   ]
  },
  {
   "cell_type": "code",
   "execution_count": 32,
   "metadata": {},
   "outputs": [],
   "source": [
    "CC_cluster_genes = pd.concat([gene_Exp, CC_cluster_genes[['cluster']]], axis=1)\n",
    "DD_cluster_genes = pd.concat([gene_Exp, DD_cluster_genes[['cluster']]], axis=1)"
   ]
  },
  {
   "cell_type": "code",
   "execution_count": 49,
   "metadata": {},
   "outputs": [],
   "source": [
    "CC_cluster_genes[\"Classification\"] = CC_cluster_genes[\"TF-Classification\"].str.split(\"->\", expand=True)[0]\n",
    "DD_cluster_genes[\"Classification\"] = DD_cluster_genes[\"TF-Classification\"].str.split(\"->\", expand=True)[0]\n",
    "CC_cluster_genes['count'] = 1\n",
    "DD_cluster_genes['count'] = 1"
   ]
  },
  {
   "cell_type": "markdown",
   "metadata": {},
   "source": [
    "## TF ratio"
   ]
  },
  {
   "cell_type": "code",
   "execution_count": 50,
   "metadata": {},
   "outputs": [],
   "source": [
    "CC_TR = CC_cluster_genes[CC_cluster_genes['TF-Category']==\"TR\"]\n",
    "CC_TF = CC_cluster_genes[CC_cluster_genes['TF-Category']==\"TF\"]\n",
    "\n",
    "DD_TR = DD_cluster_genes[DD_cluster_genes['TF-Category']==\"TR\"]\n",
    "DD_TF = DD_cluster_genes[DD_cluster_genes['TF-Category']==\"TF\"]"
   ]
  },
  {
   "cell_type": "code",
   "execution_count": 58,
   "metadata": {},
   "outputs": [
    {
     "data": {
      "text/html": [
       "<div>\n",
       "<style scoped>\n",
       "    .dataframe tbody tr th:only-of-type {\n",
       "        vertical-align: middle;\n",
       "    }\n",
       "\n",
       "    .dataframe tbody tr th {\n",
       "        vertical-align: top;\n",
       "    }\n",
       "\n",
       "    .dataframe thead th {\n",
       "        text-align: right;\n",
       "    }\n",
       "</style>\n",
       "<table border=\"1\" class=\"dataframe\">\n",
       "  <thead>\n",
       "    <tr style=\"text-align: right;\">\n",
       "      <th></th>\n",
       "      <th>TF-Family</th>\n",
       "      <th>TF-Category</th>\n",
       "      <th>TF-Classification</th>\n",
       "      <th>cluster</th>\n",
       "      <th>Classification</th>\n",
       "      <th>count</th>\n",
       "    </tr>\n",
       "    <tr>\n",
       "      <th>gene</th>\n",
       "      <th></th>\n",
       "      <th></th>\n",
       "      <th></th>\n",
       "      <th></th>\n",
       "      <th></th>\n",
       "      <th></th>\n",
       "    </tr>\n",
       "  </thead>\n",
       "  <tbody>\n",
       "    <tr>\n",
       "      <th>novel.1295</th>\n",
       "      <td>--</td>\n",
       "      <td>--</td>\n",
       "      <td>--</td>\n",
       "      <td>13</td>\n",
       "      <td>--</td>\n",
       "      <td>1</td>\n",
       "    </tr>\n",
       "    <tr>\n",
       "      <th>novel.1358</th>\n",
       "      <td>--</td>\n",
       "      <td>--</td>\n",
       "      <td>--</td>\n",
       "      <td>13</td>\n",
       "      <td>--</td>\n",
       "      <td>1</td>\n",
       "    </tr>\n",
       "    <tr>\n",
       "      <th>novel.1445</th>\n",
       "      <td>--</td>\n",
       "      <td>--</td>\n",
       "      <td>--</td>\n",
       "      <td>3</td>\n",
       "      <td>--</td>\n",
       "      <td>1</td>\n",
       "    </tr>\n",
       "    <tr>\n",
       "      <th>novel.6315</th>\n",
       "      <td>--</td>\n",
       "      <td>--</td>\n",
       "      <td>--</td>\n",
       "      <td>11</td>\n",
       "      <td>--</td>\n",
       "      <td>1</td>\n",
       "    </tr>\n",
       "    <tr>\n",
       "      <th>novel.6318</th>\n",
       "      <td>--</td>\n",
       "      <td>--</td>\n",
       "      <td>--</td>\n",
       "      <td>15</td>\n",
       "      <td>--</td>\n",
       "      <td>1</td>\n",
       "    </tr>\n",
       "    <tr>\n",
       "      <th>...</th>\n",
       "      <td>...</td>\n",
       "      <td>...</td>\n",
       "      <td>...</td>\n",
       "      <td>...</td>\n",
       "      <td>...</td>\n",
       "      <td>...</td>\n",
       "    </tr>\n",
       "    <tr>\n",
       "      <th>Solyc12g089300.2</th>\n",
       "      <td>--</td>\n",
       "      <td>--</td>\n",
       "      <td>--</td>\n",
       "      <td>1</td>\n",
       "      <td>--</td>\n",
       "      <td>1</td>\n",
       "    </tr>\n",
       "    <tr>\n",
       "      <th>Solyc12g096150.2</th>\n",
       "      <td>--</td>\n",
       "      <td>--</td>\n",
       "      <td>--</td>\n",
       "      <td>5</td>\n",
       "      <td>--</td>\n",
       "      <td>1</td>\n",
       "    </tr>\n",
       "    <tr>\n",
       "      <th>Solyc12g096570.1</th>\n",
       "      <td>--</td>\n",
       "      <td>--</td>\n",
       "      <td>--</td>\n",
       "      <td>5</td>\n",
       "      <td>--</td>\n",
       "      <td>1</td>\n",
       "    </tr>\n",
       "    <tr>\n",
       "      <th>Solyc12g096710.2</th>\n",
       "      <td>--</td>\n",
       "      <td>--</td>\n",
       "      <td>--</td>\n",
       "      <td>10</td>\n",
       "      <td>--</td>\n",
       "      <td>1</td>\n",
       "    </tr>\n",
       "    <tr>\n",
       "      <th>Solyc12g099440.3</th>\n",
       "      <td>--</td>\n",
       "      <td>--</td>\n",
       "      <td>--</td>\n",
       "      <td>12</td>\n",
       "      <td>--</td>\n",
       "      <td>1</td>\n",
       "    </tr>\n",
       "  </tbody>\n",
       "</table>\n",
       "<p>7860 rows × 6 columns</p>\n",
       "</div>"
      ],
      "text/plain": [
       "                 TF-Family TF-Category TF-Classification  cluster  \\\n",
       "gene                                                                \n",
       "novel.1295              --          --                --       13   \n",
       "novel.1358              --          --                --       13   \n",
       "novel.1445              --          --                --        3   \n",
       "novel.6315              --          --                --       11   \n",
       "novel.6318              --          --                --       15   \n",
       "...                    ...         ...               ...      ...   \n",
       "Solyc12g089300.2        --          --                --        1   \n",
       "Solyc12g096150.2        --          --                --        5   \n",
       "Solyc12g096570.1        --          --                --        5   \n",
       "Solyc12g096710.2        --          --                --       10   \n",
       "Solyc12g099440.3        --          --                --       12   \n",
       "\n",
       "                 Classification  count  \n",
       "gene                                    \n",
       "novel.1295                   --      1  \n",
       "novel.1358                   --      1  \n",
       "novel.1445                   --      1  \n",
       "novel.6315                   --      1  \n",
       "novel.6318                   --      1  \n",
       "...                         ...    ...  \n",
       "Solyc12g089300.2             --      1  \n",
       "Solyc12g096150.2             --      1  \n",
       "Solyc12g096570.1             --      1  \n",
       "Solyc12g096710.2             --      1  \n",
       "Solyc12g099440.3             --      1  \n",
       "\n",
       "[7860 rows x 6 columns]"
      ]
     },
     "execution_count": 58,
     "metadata": {},
     "output_type": "execute_result"
    }
   ],
   "source": [
    "DD_cluster_genes"
   ]
  },
  {
   "cell_type": "code",
   "execution_count": null,
   "metadata": {},
   "outputs": [],
   "source": [
    "def "
   ]
  },
  {
   "cell_type": "code",
   "execution_count": null,
   "metadata": {},
   "outputs": [],
   "source": []
  },
  {
   "cell_type": "code",
   "execution_count": 53,
   "metadata": {},
   "outputs": [
    {
     "data": {
      "text/plain": [
       "39"
      ]
     },
     "execution_count": 53,
     "metadata": {},
     "output_type": "execute_result"
    }
   ],
   "source": [
    "len(CC_TF[\"Classification\"].unique())"
   ]
  },
  {
   "cell_type": "code",
   "execution_count": 104,
   "metadata": {},
   "outputs": [
    {
     "name": "stderr",
     "output_type": "stream",
     "text": [
      "<ipython-input-104-54a27bea54f2>:1: FutureWarning: The default value of numeric_only in DataFrameGroupBy.sum is deprecated. In a future version, numeric_only will default to False. Either specify numeric_only or select only columns which should be valid for the function.\n",
      "  CC_TF_TR_num = CC_cluster_genes.groupby([\"cluster\", 'TF-Category',\"Classification\"]).sum()[\"count\"].reset_index()\n",
      "<ipython-input-104-54a27bea54f2>:2: FutureWarning: The default value of numeric_only in DataFrameGroupBy.sum is deprecated. In a future version, numeric_only will default to False. Either specify numeric_only or select only columns which should be valid for the function.\n",
      "  DD_TF_TR_num = DD_cluster_genes.groupby([\"cluster\", 'TF-Category', \"Classification\"]).sum()[\"count\"].reset_index()\n"
     ]
    }
   ],
   "source": [
    "CC_TF_TR_num = CC_cluster_genes.groupby([\"cluster\", 'TF-Category',\"Classification\"]).sum()[\"count\"].reset_index()\n",
    "DD_TF_TR_num = DD_cluster_genes.groupby([\"cluster\", 'TF-Category', \"Classification\"]).sum()[\"count\"].reset_index()\n",
    "CC_TF_TR_num['InClusterRatio'] = CC_TF_TR_num['count']/CC_cluster_genes.shape[0]\n",
    "DD_TF_TR_num['InClusterRatio'] = DD_TF_TR_num['count']/DD_cluster_genes.shape[0]\n",
    "\n",
    "CC_TF_TR_num[\"cluster\"] = \"CC_\" + CC_TF_TR_num[\"cluster\"].astype(str)\n",
    "DD_TF_TR_num[\"cluster\"] = \"DD_\" + DD_TF_TR_num[\"cluster\"].astype(str)"
   ]
  },
  {
   "cell_type": "code",
   "execution_count": 141,
   "metadata": {},
   "outputs": [],
   "source": [
    "def long2mat(df, classi=\"TF\"):\n",
    "    df = df.pivot(columns=\"cluster\", index=\"Classification\",values='count')\n",
    "    df.index.name=classi+' classification'\n",
    "    df.columns.name='Cluster'\n",
    "    #df = df.fillna(0)\n",
    "    return df\n",
    "\n",
    "CC_TF = long2mat(CC_TF_TR_num[CC_TF_TR_num['TF-Category']==\"TF\"])\n",
    "CC_TR = long2mat(CC_TF_TR_num[CC_TF_TR_num['TF-Category']==\"TR\"], classi=\"TR\")\n",
    "\n",
    "DD_TF = long2mat(DD_TF_TR_num[DD_TF_TR_num['TF-Category']==\"TF\"])\n",
    "DD_TR = long2mat(DD_TF_TR_num[DD_TF_TR_num['TF-Category']==\"TR\"], classi=\"TR\")"
   ]
  },
  {
   "cell_type": "code",
   "execution_count": 142,
   "metadata": {},
   "outputs": [],
   "source": [
    "CC_cluster_order = [\"C18\", \"C16\", \"C13\", \"C9\", \"C5\", \"C6\", \n",
    "                      \"C11\", \"C8\", \"C4\", \"C12\", \"C1\", \"C10\", \n",
    "                      \"C3\", \"C17\", \"C14\", \"C15\", \"C2\", \"C7\"]\n",
    "\n",
    "DD_cluster_order = [\"C5\", \"C18\", \"C6\", \"C15\", \"C11\", \"C9\", \n",
    "                      \"C12\", \"C10\", \"C3\", \"C13\", \"C16\", \"C8\", \n",
    "                      \"C14\", \"C2\", \"C1\", \"C4\", \"C17\", \"C7\"]\n"
   ]
  },
  {
   "cell_type": "code",
   "execution_count": 143,
   "metadata": {},
   "outputs": [],
   "source": [
    "CC_DD_TF = pd.concat([CC_TF, DD_TF], axis=1)\n",
    "CC_DD_TR = pd.concat([CC_TR, DD_TR], axis=1)"
   ]
  },
  {
   "cell_type": "code",
   "execution_count": null,
   "metadata": {},
   "outputs": [],
   "source": []
  },
  {
   "cell_type": "code",
   "execution_count": 129,
   "metadata": {},
   "outputs": [],
   "source": [
    "import matplotlib.colors as mcolors\n",
    "keys = list(mcolors.CSS4_COLORS)"
   ]
  },
  {
   "cell_type": "code",
   "execution_count": null,
   "metadata": {},
   "outputs": [],
   "source": []
  },
  {
   "cell_type": "code",
   "execution_count": 114,
   "metadata": {},
   "outputs": [
    {
     "data": {
      "image/png": "[encoded data removed]",
      "text/html": [
       "<div style=\"vertical-align: middle;\"><strong>Blues</strong> </div><div class=\"cmap\"><img alt=\"Blues colormap\" title=\"Blues\" style=\"border: 1px solid #555;\" src=\"data:image/png;base64,iVBORw0KGgoAAAANSUhEUgAAAgAAAABACAYAAABsv8+/AAAAFHRFWHRUaXRsZQBCbHVlcyBjb2xvcm1hcIbbCAEAAAAadEVYdERlc2NyaXB0aW9uAEJsdWVzIGNvbG9ybWFweISh5wAAADB0RVh0QXV0aG9yAE1hdHBsb3RsaWIgdjMuNi4yLCBodHRwczovL21hdHBsb3RsaWIub3Jncc5VXwAAADJ0RVh0U29mdHdhcmUATWF0cGxvdGxpYiB2My42LjIsIGh0dHBzOi8vbWF0cGxvdGxpYi5vcmdfaMp4AAAB00lEQVR4nO3WwU7rMAAAQcP//y8HpIQDJQi3Vopa3uHtzCVynDhxCdK+vL3v+xhj7J+HcTmMy+E4P47x7fnjqgfnp8ct57/Xe2z+3v397/Pz77ON+XvYfze/OP81vn/+9ntuV+89z6/2d1l/Hh/X397fdhwX+5zWOV3/5Pz8HqfXLe9fvN/8+yzuv/p7zPNX+zj5Ts6et1pvsY9717v6bk72cz4+2df2rOf87rmPr/vzH281f+91z1rnr5439u3rhp/jbRqvrnv6+F8953P8OgCAHAEAAEECAACCBAAABAkAAAgSAAAQJAAAIEgAAECQAACAIAEAAEECAACCBAAABAkAAAgSAAAQJAAAIEgAAECQAACAIAEAAEECAACCBAAABAkAAAgSAAAQJAAAIEgAAECQAACAIAEAAEECAACCBAAABAkAAAgSAAAQJAAAIEgAAECQAACAIAEAAEECAACCBAAABAkAAAgSAAAQJAAAIEgAAECQAACAIAEAAEECAACCBAAABAkAAAgSAAAQJAAAIEgAAECQAACAIAEAAEECAACCBAAABAkAAAgSAAAQJAAAIEgAAECQAACAIAEAAEECAACCBAAABAkAAAgSAAAQJAAAIOgDfCcYQIPsTRMAAAAASUVORK5CYII=\"></div><div style=\"vertical-align: middle; max-width: 514px; display: flex; justify-content: space-between;\"><div style=\"float: left;\"><div title=\"#f7fbffff\" style=\"display: inline-block; width: 1em; height: 1em; margin: 0; vertical-align: middle; border: 1px solid #555; background-color: #f7fbffff;\"></div> under</div><div style=\"margin: 0 auto; display: inline-block;\">bad <div title=\"#ffffffff\" style=\"display: inline-block; width: 1em; height: 1em; margin: 0; vertical-align: middle; border: 1px solid #555; background-color: #ffffffff;\"></div></div><div style=\"float: right;\">over <div title=\"#08306bff\" style=\"display: inline-block; width: 1em; height: 1em; margin: 0; vertical-align: middle; border: 1px solid #555; background-color: #08306bff;\"></div></div>"
      ],
      "text/plain": [
       "<matplotlib.colors.LinearSegmentedColormap at 0x7f7f5b73a520>"
      ]
     },
     "execution_count": 114,
     "metadata": {},
     "output_type": "execute_result"
    }
   ],
   "source": [
    "cmap"
   ]
  },
  {
   "cell_type": "code",
   "execution_count": 145,
   "metadata": {},
   "outputs": [
    {
     "data": {
      "image/png": "[encoded data removed]",
      "text/plain": [
       "<Figure size 720x792 with 5 Axes>"
      ]
     },
     "metadata": {
      "needs_background": "light"
     },
     "output_type": "display_data"
    }
   ],
   "source": [
    "import matplotlib.pyplot as plt\n",
    "import numpy as np\n",
    "\n",
    "import matplotlib as mpl\n",
    "mpl.rcParams['pdf.fonttype']=42\n",
    "mpl.rcParams['ps.fonttype']=42\n",
    "import seaborn as sns\n",
    "\n",
    "#fig = plt.figure(figsize=(5, 12))\n",
    "#ax = fig.add_gridspec(top=0.8, right=0.8).subplots()\n",
    "\n",
    "cmap=plt.get_cmap('Blues')\n",
    "cmap.set_bad(color='w', alpha=1)\n",
    "\n",
    "col_colors = ['#348181']*18 + ['#F1E78C']*18\n",
    "sns.clustermap(CC_DD_TF.fillna(0), cmap=cmap, annot=False, figsize=(10, 11), col_colors=col_colors)\n",
    "#ax.set(xlabel=\"TF classification\", ylabel=\"CC cluster\", title=\"TF gene number\")\n",
    "\n",
    "\n",
    "#ax.margins(0.15)\n",
    "#plt.tight_layout()\n",
    "\n",
    "plt.savefig(\"CC_DD_cluster_TF_number.pdf\")\n",
    "\n",
    "#fig.savefig(\"CC_DD_cluster_overlap_gene_Num.pdf\")"
   ]
  },
  {
   "cell_type": "code",
   "execution_count": 149,
   "metadata": {},
   "outputs": [
    {
     "data": {
      "image/png": "[encoded data removed]",
      "text/plain": [
       "<Figure size 720x360 with 5 Axes>"
      ]
     },
     "metadata": {
      "needs_background": "light"
     },
     "output_type": "display_data"
    }
   ],
   "source": [
    "sns.clustermap(CC_DD_TR.fillna(0), cmap=cmap, annot=False, figsize=(10, 5), col_colors=col_colors)\n",
    "\n",
    "plt.savefig(\"CC_DD_cluster_TR_number.pdf\")"
   ]
  },
  {
   "cell_type": "code",
   "execution_count": 151,
   "metadata": {},
   "outputs": [],
   "source": [
    "CC_DD_TR.fillna(0).to_csv(\"CC_DD_TR.csv\", sep=\",\")\n",
    "CC_DD_TF.fillna(0).to_csv(\"CC_DD_TF.csv\", sep=\",\")"
   ]
  },
  {
   "cell_type": "code",
   "execution_count": null,
   "metadata": {},
   "outputs": [],
   "source": []
  },
  {
   "cell_type": "markdown",
   "metadata": {},
   "source": [
    "## for scenic module"
   ]
  },
  {
   "cell_type": "code",
   "execution_count": 152,
   "metadata": {},
   "outputs": [
    {
     "data": {
      "text/html": [
       "<div>\n",
       "<style scoped>\n",
       "    .dataframe tbody tr th:only-of-type {\n",
       "        vertical-align: middle;\n",
       "    }\n",
       "\n",
       "    .dataframe tbody tr th {\n",
       "        vertical-align: top;\n",
       "    }\n",
       "\n",
       "    .dataframe thead th {\n",
       "        text-align: right;\n",
       "    }\n",
       "</style>\n",
       "<table border=\"1\" class=\"dataframe\">\n",
       "  <thead>\n",
       "    <tr style=\"text-align: right;\">\n",
       "      <th></th>\n",
       "      <th>TF-Family</th>\n",
       "      <th>TF-Category</th>\n",
       "      <th>TF-Classification</th>\n",
       "    </tr>\n",
       "    <tr>\n",
       "      <th>gene</th>\n",
       "      <th></th>\n",
       "      <th></th>\n",
       "      <th></th>\n",
       "    </tr>\n",
       "  </thead>\n",
       "  <tbody>\n",
       "    <tr>\n",
       "      <th>novel.1295</th>\n",
       "      <td>--</td>\n",
       "      <td>--</td>\n",
       "      <td>--</td>\n",
       "    </tr>\n",
       "    <tr>\n",
       "      <th>novel.1358</th>\n",
       "      <td>--</td>\n",
       "      <td>--</td>\n",
       "      <td>--</td>\n",
       "    </tr>\n",
       "    <tr>\n",
       "      <th>novel.1445</th>\n",
       "      <td>--</td>\n",
       "      <td>--</td>\n",
       "      <td>--</td>\n",
       "    </tr>\n",
       "    <tr>\n",
       "      <th>novel.6315</th>\n",
       "      <td>--</td>\n",
       "      <td>--</td>\n",
       "      <td>--</td>\n",
       "    </tr>\n",
       "    <tr>\n",
       "      <th>novel.6318</th>\n",
       "      <td>--</td>\n",
       "      <td>--</td>\n",
       "      <td>--</td>\n",
       "    </tr>\n",
       "    <tr>\n",
       "      <th>...</th>\n",
       "      <td>...</td>\n",
       "      <td>...</td>\n",
       "      <td>...</td>\n",
       "    </tr>\n",
       "    <tr>\n",
       "      <th>Solyc12g089300.2</th>\n",
       "      <td>--</td>\n",
       "      <td>--</td>\n",
       "      <td>--</td>\n",
       "    </tr>\n",
       "    <tr>\n",
       "      <th>Solyc12g096150.2</th>\n",
       "      <td>--</td>\n",
       "      <td>--</td>\n",
       "      <td>--</td>\n",
       "    </tr>\n",
       "    <tr>\n",
       "      <th>Solyc12g096570.1</th>\n",
       "      <td>--</td>\n",
       "      <td>--</td>\n",
       "      <td>--</td>\n",
       "    </tr>\n",
       "    <tr>\n",
       "      <th>Solyc12g096710.2</th>\n",
       "      <td>--</td>\n",
       "      <td>--</td>\n",
       "      <td>--</td>\n",
       "    </tr>\n",
       "    <tr>\n",
       "      <th>Solyc12g099440.3</th>\n",
       "      <td>--</td>\n",
       "      <td>--</td>\n",
       "      <td>--</td>\n",
       "    </tr>\n",
       "  </tbody>\n",
       "</table>\n",
       "<p>7860 rows × 3 columns</p>\n",
       "</div>"
      ],
      "text/plain": [
       "                 TF-Family TF-Category TF-Classification\n",
       "gene                                                    \n",
       "novel.1295              --          --                --\n",
       "novel.1358              --          --                --\n",
       "novel.1445              --          --                --\n",
       "novel.6315              --          --                --\n",
       "novel.6318              --          --                --\n",
       "...                    ...         ...               ...\n",
       "Solyc12g089300.2        --          --                --\n",
       "Solyc12g096150.2        --          --                --\n",
       "Solyc12g096570.1        --          --                --\n",
       "Solyc12g096710.2        --          --                --\n",
       "Solyc12g099440.3        --          --                --\n",
       "\n",
       "[7860 rows x 3 columns]"
      ]
     },
     "execution_count": 152,
     "metadata": {},
     "output_type": "execute_result"
    }
   ],
   "source": [
    "gene_Exp"
   ]
  },
  {
   "cell_type": "code",
   "execution_count": null,
   "metadata": {},
   "outputs": [],
   "source": []
  },
  {
   "cell_type": "code",
   "execution_count": null,
   "metadata": {},
   "outputs": [],
   "source": []
  },
  {
   "cell_type": "code",
   "execution_count": null,
   "metadata": {},
   "outputs": [],
   "source": []
  },
  {
   "cell_type": "code",
   "execution_count": null,
   "metadata": {},
   "outputs": [],
   "source": []
  },
  {
   "cell_type": "code",
   "execution_count": null,
   "metadata": {},
   "outputs": [],
   "source": []
  },
  {
   "cell_type": "code",
   "execution_count": null,
   "metadata": {},
   "outputs": [],
   "source": []
  }
 ],
 "metadata": {
  "kernelspec": {
   "display_name": "Python 3",
   "language": "python",
   "name": "python3"
  },
  "language_info": {
   "codemirror_mode": {
    "name": "ipython",
    "version": 3
   },
   "file_extension": ".py",
   "mimetype": "text/x-python",
   "name": "python",
   "nbconvert_exporter": "python",
   "pygments_lexer": "ipython3",
   "version": "3.8.5"
  }
 },
 "nbformat": 4,
 "nbformat_minor": 4
}
