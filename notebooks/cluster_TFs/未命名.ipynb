{
 "cells": [
  {
   "cell_type": "code",
   "execution_count": 1,
   "metadata": {},
   "outputs": [
    {
     "name": "stderr",
     "output_type": "stream",
     "text": [
      "/Users/yuanzan/anaconda3/lib/python3.8/site-packages/pandas/core/computation/expressions.py:20: UserWarning: Pandas requires version '2.7.3' or newer of 'numexpr' (version '2.7.1' currently installed).\n",
      "  from pandas.core.computation.check import NUMEXPR_INSTALLED\n"
     ]
    }
   ],
   "source": [
    "import pandas as pd\n",
    "gene_Exp = pd.read_excel(\"/Users/yuanzan/Documents/phd/tomato_metabolic/作图2.19/K-MEANS/gene.expression.annot.xlsx\", index_col=0)"
   ]
  },
  {
   "cell_type": "code",
   "execution_count": 2,
   "metadata": {},
   "outputs": [
    {
     "data": {
      "text/html": [
       "<div>\n",
       "<style scoped>\n",
       "    .dataframe tbody tr th:only-of-type {\n",
       "        vertical-align: middle;\n",
       "    }\n",
       "\n",
       "    .dataframe tbody tr th {\n",
       "        vertical-align: top;\n",
       "    }\n",
       "\n",
       "    .dataframe thead th {\n",
       "        text-align: right;\n",
       "    }\n",
       "</style>\n",
       "<table border=\"1\" class=\"dataframe\">\n",
       "  <thead>\n",
       "    <tr style=\"text-align: right;\">\n",
       "      <th></th>\n",
       "      <th>NR</th>\n",
       "      <th>Swissprot</th>\n",
       "      <th>Tremble</th>\n",
       "      <th>KOG</th>\n",
       "      <th>GO</th>\n",
       "      <th>Pfam</th>\n",
       "      <th>TF-Family</th>\n",
       "      <th>TF-Category</th>\n",
       "      <th>TF-Classification</th>\n",
       "    </tr>\n",
       "    <tr>\n",
       "      <th>ID</th>\n",
       "      <th></th>\n",
       "      <th></th>\n",
       "      <th></th>\n",
       "      <th></th>\n",
       "      <th></th>\n",
       "      <th></th>\n",
       "      <th></th>\n",
       "      <th></th>\n",
       "      <th></th>\n",
       "    </tr>\n",
       "  </thead>\n",
       "  <tbody>\n",
       "    <tr>\n",
       "      <th>Solyc00g011560.1</th>\n",
       "      <td>PREDICTED: putative E3 ubiquitin-protein ligas...</td>\n",
       "      <td>SIL10_ARATH RecName: Full=E3 ubiquitin-protein...</td>\n",
       "      <td>A0A3Q7G5L9_SOLLC RecName: Full=RING-type E3 ub...</td>\n",
       "      <td>At5g37930</td>\n",
       "      <td>GO:0005737,cytoplasm; GO:0016740,transferase a...</td>\n",
       "      <td>PF03145.16:Seven in absentia protein family</td>\n",
       "      <td>--</td>\n",
       "      <td>--</td>\n",
       "      <td>--</td>\n",
       "    </tr>\n",
       "    <tr>\n",
       "      <th>Solyc00g011660.1</th>\n",
       "      <td>PREDICTED: B3 domain-containing transcription ...</td>\n",
       "      <td>VRN1_ARATH RecName: Full=B3 domain-containing ...</td>\n",
       "      <td>A0A494GAC9_SOLLC SubName: Full=Uncharacterized...</td>\n",
       "      <td>At3g18960</td>\n",
       "      <td>GO:0005654,nucleoplasm; GO:0003677,DNA binding...</td>\n",
       "      <td>PF02362.21:B3 DNA binding domain</td>\n",
       "      <td>B3</td>\n",
       "      <td>TF</td>\n",
       "      <td>B3-&gt;B3</td>\n",
       "    </tr>\n",
       "  </tbody>\n",
       "</table>\n",
       "</div>"
      ],
      "text/plain": [
       "                                                                 NR  \\\n",
       "ID                                                                    \n",
       "Solyc00g011560.1  PREDICTED: putative E3 ubiquitin-protein ligas...   \n",
       "Solyc00g011660.1  PREDICTED: B3 domain-containing transcription ...   \n",
       "\n",
       "                                                          Swissprot  \\\n",
       "ID                                                                    \n",
       "Solyc00g011560.1  SIL10_ARATH RecName: Full=E3 ubiquitin-protein...   \n",
       "Solyc00g011660.1  VRN1_ARATH RecName: Full=B3 domain-containing ...   \n",
       "\n",
       "                                                            Tremble  \\\n",
       "ID                                                                    \n",
       "Solyc00g011560.1  A0A3Q7G5L9_SOLLC RecName: Full=RING-type E3 ub...   \n",
       "Solyc00g011660.1  A0A494GAC9_SOLLC SubName: Full=Uncharacterized...   \n",
       "\n",
       "                        KOG  \\\n",
       "ID                            \n",
       "Solyc00g011560.1  At5g37930   \n",
       "Solyc00g011660.1  At3g18960   \n",
       "\n",
       "                                                                 GO  \\\n",
       "ID                                                                    \n",
       "Solyc00g011560.1  GO:0005737,cytoplasm; GO:0016740,transferase a...   \n",
       "Solyc00g011660.1  GO:0005654,nucleoplasm; GO:0003677,DNA binding...   \n",
       "\n",
       "                                                         Pfam TF-Family  \\\n",
       "ID                                                                        \n",
       "Solyc00g011560.1  PF03145.16:Seven in absentia protein family        --   \n",
       "Solyc00g011660.1             PF02362.21:B3 DNA binding domain        B3   \n",
       "\n",
       "                 TF-Category TF-Classification  \n",
       "ID                                              \n",
       "Solyc00g011560.1          --                --  \n",
       "Solyc00g011660.1          TF            B3->B3  "
      ]
     },
     "execution_count": 2,
     "metadata": {},
     "output_type": "execute_result"
    }
   ],
   "source": [
    "gene_Exp.iloc[:,356:365].head(2)"
   ]
  },
  {
   "cell_type": "code",
   "execution_count": null,
   "metadata": {},
   "outputs": [],
   "source": [
    "gene_Exp2 = gene_Exp.iloc[:,362:365]"
   ]
  },
  {
   "cell_type": "code",
   "execution_count": null,
   "metadata": {},
   "outputs": [],
   "source": []
  },
  {
   "cell_type": "code",
   "execution_count": null,
   "metadata": {},
   "outputs": [],
   "source": []
  }
 ],
 "metadata": {
  "kernelspec": {
   "display_name": "Python 3",
   "language": "python",
   "name": "python3"
  },
  "language_info": {
   "codemirror_mode": {
    "name": "ipython",
    "version": 3
   },
   "file_extension": ".py",
   "mimetype": "text/x-python",
   "name": "python",
   "nbconvert_exporter": "python",
   "pygments_lexer": "ipython3",
   "version": "3.8.5"
  }
 },
 "nbformat": 4,
 "nbformat_minor": 4
}
