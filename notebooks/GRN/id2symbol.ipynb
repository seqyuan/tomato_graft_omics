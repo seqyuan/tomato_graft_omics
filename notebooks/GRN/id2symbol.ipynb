{
 "cells": [
  {
   "cell_type": "code",
   "execution_count": 1,
   "metadata": {},
   "outputs": [
    {
     "name": "stderr",
     "output_type": "stream",
     "text": [
      "\n",
      "\n",
      "clusterProfiler v3.16.1  For help: https://guangchuangyu.github.io/software/clusterProfiler\n",
      "\n",
      "If you use clusterProfiler in published research, please cite:\n",
      "Guangchuang Yu, Li-Gen Wang, Yanyan Han, Qing-Yu He. clusterProfiler: an R package for comparing biological themes among gene clusters. OMICS: A Journal of Integrative Biology. 2012, 16(5):284-287.\n",
      "\n",
      "\n",
      "Attaching package: ‘clusterProfiler’\n",
      "\n",
      "\n",
      "The following object is masked from ‘package:stats’:\n",
      "\n",
      "    filter\n",
      "\n",
      "\n",
      "Loading required package: BiocGenerics\n",
      "\n",
      "Loading required package: parallel\n",
      "\n",
      "\n",
      "Attaching package: ‘BiocGenerics’\n",
      "\n",
      "\n",
      "The following objects are masked from ‘package:parallel’:\n",
      "\n",
      "    clusterApply, clusterApplyLB, clusterCall, clusterEvalQ,\n",
      "    clusterExport, clusterMap, parApply, parCapply, parLapply,\n",
      "    parLapplyLB, parRapply, parSapply, parSapplyLB\n",
      "\n",
      "\n",
      "The following objects are masked from ‘package:stats’:\n",
      "\n",
      "    IQR, mad, sd, var, xtabs\n",
      "\n",
      "\n",
      "The following objects are masked from ‘package:base’:\n",
      "\n",
      "    anyDuplicated, append, as.data.frame, basename, cbind, colnames,\n",
      "    dirname, do.call, duplicated, eval, evalq, Filter, Find, get, grep,\n",
      "    grepl, intersect, is.unsorted, lapply, Map, mapply, match, mget,\n",
      "    order, paste, pmax, pmax.int, pmin, pmin.int, Position, rank,\n",
      "    rbind, Reduce, rownames, sapply, setdiff, sort, table, tapply,\n",
      "    union, unique, unsplit, which, which.max, which.min\n",
      "\n",
      "\n",
      "Loading required package: BiocFileCache\n",
      "\n",
      "Loading required package: dbplyr\n",
      "\n"
     ]
    },
    {
     "ename": "ERROR",
     "evalue": "Error: package or namespace load failed for ‘biomaRt’ in dyn.load(file, DLLpath = DLLpath, ...):\n 无法载入共享目标对象‘/Library/Frameworks/R.framework/Versions/4.0/Resources/library/openssl/libs/openssl.so’：:\n  dlopen(/Library/Frameworks/R.framework/Versions/4.0/Resources/library/openssl/libs/openssl.so, 0x0006): Library not loaded: '/usr/local/opt/openssl/lib/libssl.1.0.0.dylib'\n  Referenced from: '/Library/Frameworks/R.framework/Versions/4.0/Resources/library/openssl/libs/openssl.so'\n  Reason: tried: '/usr/local/opt/openssl/lib/libssl.1.0.0.dylib' (no such file), '/Library/Frameworks/R.framework/Resources/lib/libssl.1.0.0.dylib' (no such file), '/Library/Java/JavaVirtualMachines/jdk1.8.0_241.jdk/Contents/Home/jre/lib/server/libssl.1.0.0.dylib' (no such file), '/usr/local/Cellar/openssl@3/3.0.8/lib/libssl.1.0.0.dylib' (no such file), '/Library/Frameworks/R.framework/Resources/lib/libssl.1.0.0.dylib' (no such file), '/Library/Java/JavaVirtualMachines/jdk1.8.0_241.jdk/Contents/Home/jre/lib/server/libssl.1.0.0.dylib' (no such file)\n",
     "output_type": "error",
     "traceback": [
      "Error: package or namespace load failed for ‘biomaRt’ in dyn.load(file, DLLpath = DLLpath, ...):\n 无法载入共享目标对象‘/Library/Frameworks/R.framework/Versions/4.0/Resources/library/openssl/libs/openssl.so’：:\n  dlopen(/Library/Frameworks/R.framework/Versions/4.0/Resources/library/openssl/libs/openssl.so, 0x0006): Library not loaded: '/usr/local/opt/openssl/lib/libssl.1.0.0.dylib'\n  Referenced from: '/Library/Frameworks/R.framework/Versions/4.0/Resources/library/openssl/libs/openssl.so'\n  Reason: tried: '/usr/local/opt/openssl/lib/libssl.1.0.0.dylib' (no such file), '/Library/Frameworks/R.framework/Resources/lib/libssl.1.0.0.dylib' (no such file), '/Library/Java/JavaVirtualMachines/jdk1.8.0_241.jdk/Contents/Home/jre/lib/server/libssl.1.0.0.dylib' (no such file), '/usr/local/Cellar/openssl@3/3.0.8/lib/libssl.1.0.0.dylib' (no such file), '/Library/Frameworks/R.framework/Resources/lib/libssl.1.0.0.dylib' (no such file), '/Library/Java/JavaVirtualMachines/jdk1.8.0_241.jdk/Contents/Home/jre/lib/server/libssl.1.0.0.dylib' (no such file)\nTraceback:\n",
      "1. library(biomaRt)",
      "2. tryCatch({\n .     attr(package, \"LibPath\") <- which.lib.loc\n .     ns <- loadNamespace(package, lib.loc)\n .     env <- attachNamespace(ns, pos = pos, deps, exclude, include.only)\n . }, error = function(e) {\n .     P <- if (!is.null(cc <- conditionCall(e))) \n .         paste(\" in\", deparse(cc)[1L])\n .     else \"\"\n .     msg <- gettextf(\"package or namespace load failed for %s%s:\\n %s\", \n .         sQuote(package), P, conditionMessage(e))\n .     if (logical.return) \n .         message(paste(\"Error:\", msg), domain = NA)\n .     else stop(msg, call. = FALSE, domain = NA)\n . })",
      "3. tryCatchList(expr, classes, parentenv, handlers)",
      "4. tryCatchOne(expr, names, parentenv, handlers[[1L]])",
      "5. value[[3L]](cond)",
      "6. stop(msg, call. = FALSE, domain = NA)"
     ]
    }
   ],
   "source": [
    "library(clusterProfiler)\n",
    "library(AnnotationHub)\n",
    "library(biomaRt)"
   ]
  },
  {
   "cell_type": "code",
   "execution_count": 4,
   "metadata": {},
   "outputs": [
    {
     "name": "stdout",
     "output_type": "stream",
     "text": [
      "[1] 1\n"
     ]
    }
   ],
   "source": [
    "print(1)"
   ]
  },
  {
   "cell_type": "code",
   "execution_count": 2,
   "metadata": {},
   "outputs": [
    {
     "name": "stderr",
     "output_type": "stream",
     "text": [
      "using temporary cache /var/folders/s6/8xqxsbh11nl91f72l5vsz7fh0000gn/T//RtmpJBKXhq/BiocFileCache\n",
      "\n",
      "snapshotDate(): 2020-04-27\n",
      "\n"
     ]
    },
    {
     "data": {
      "text/html": [],
      "text/latex": [],
      "text/markdown": [],
      "text/plain": [
       "character(0)"
      ]
     },
     "metadata": {},
     "output_type": "display_data"
    },
    {
     "data": {
      "text/plain": [
       "AnnotationHub with 8 records\n",
       "# snapshotDate(): 2020-04-27\n",
       "# $dataprovider: ftp://ftp.ncbi.nlm.nih.gov/gene/DATA/, Inparanoid8\n",
       "# $species: Solanum tuberosum, Solanum lycopersicum, Solanum pennellii, Sola...\n",
       "# $rdataclass: OrgDb, Inparanoid8Db\n",
       "# additional mcols(): taxonomyid, genome, description,\n",
       "#   coordinate_1_based, maintainer, rdatadateadded, preparerclass, tags,\n",
       "#   rdatapath, sourceurl, sourcetype \n",
       "# retrieve records with, e.g., 'object[[\"AH10593\"]]' \n",
       "\n",
       "            title                                             \n",
       "  AH10593 | hom.Solanum_lycopersicum.inp8.sqlite              \n",
       "  AH10606 | hom.Solanum_tuberosum.inp8.sqlite                 \n",
       "  AH80691 | org.Solanum_pennelli.eg.sqlite                    \n",
       "  AH80692 | org.Solanum_pennellii.eg.sqlite                   \n",
       "  AH80747 | org.Solanum_tuberosum.eg.sqlite                   \n",
       "  AH80807 | org.Solanum_esculentum.eg.sqlite                  \n",
       "  AH80808 | org.Solanum_lycopersicum.eg.sqlite                \n",
       "  AH80809 | org.Solanum_lycopersicum_var._humboldtii.eg.sqlite"
      ]
     },
     "metadata": {},
     "output_type": "display_data"
    },
    {
     "data": {
      "text/plain": [
       "AnnotationHub with 0 records\n",
       "# snapshotDate(): 2020-04-27"
      ]
     },
     "metadata": {},
     "output_type": "display_data"
    },
    {
     "name": "stderr",
     "output_type": "stream",
     "text": [
      "downloading 1 resources\n",
      "\n",
      "retrieving 1 resource\n",
      "\n",
      "loading from cache\n",
      "\n",
      "Loading required package: AnnotationDbi\n",
      "\n",
      "Loading required package: stats4\n",
      "\n",
      "Loading required package: Biobase\n",
      "\n",
      "Welcome to Bioconductor\n",
      "\n",
      "    Vignettes contain introductory material; view with\n",
      "    'browseVignettes()'. To cite Bioconductor, see\n",
      "    'citation(\"Biobase\")', and for packages 'citation(\"pkgname\")'.\n",
      "\n",
      "\n",
      "\n",
      "Attaching package: ‘Biobase’\n",
      "\n",
      "\n",
      "The following object is masked from ‘package:AnnotationHub’:\n",
      "\n",
      "    cache\n",
      "\n",
      "\n",
      "Loading required package: IRanges\n",
      "\n",
      "Loading required package: S4Vectors\n",
      "\n",
      "\n",
      "Attaching package: ‘S4Vectors’\n",
      "\n",
      "\n",
      "The following object is masked from ‘package:clusterProfiler’:\n",
      "\n",
      "    rename\n",
      "\n",
      "\n",
      "The following object is masked from ‘package:base’:\n",
      "\n",
      "    expand.grid\n",
      "\n",
      "\n",
      "\n",
      "Attaching package: ‘IRanges’\n",
      "\n",
      "\n",
      "The following object is masked from ‘package:clusterProfiler’:\n",
      "\n",
      "    slice\n",
      "\n",
      "\n",
      "\n",
      "Attaching package: ‘AnnotationDbi’\n",
      "\n",
      "\n",
      "The following object is masked from ‘package:clusterProfiler’:\n",
      "\n",
      "    select\n",
      "\n",
      "\n"
     ]
    }
   ],
   "source": [
    "hub <- AnnotationHub() #建立AnnotationHub对象（视人品，网不行加载不了）\n",
    "# unique(hub$species) #查看AnonotationHub里面物种\n",
    "hub$species[which(hub$species==\"Solanum\")] #看AnonotationHub里是否包含想要的物种\n",
    "# Solanum是番茄的拉丁名\n",
    "query(hub, \"Solanum\")  #查看该物种信息\n",
    "hub[hub$species==\"Solanum\" & hub$rdataclass == \"OrgDb\"] #OrgDb属于rdataclass中，因此查看下该物种有没有OrgDb\n",
    "Solanum.OrgDb <- hub[[\"AH80808\"]]#AH59087是番茄对应的编号"
   ]
  },
  {
   "cell_type": "code",
   "execution_count": 5,
   "metadata": {},
   "outputs": [],
   "source": [
    "geneIDTransForm <- read.table(\"~/Documents/phd/tomato_metabolic/geneIDTransForm/mart_export.txt\", sep=\"\\t\", header=TRUE)\n",
    "\n",
    "id2entrezID <- function(ids){\n",
    "    #df <- geneIDTransForm[geneIDTransForm$NCBI.gene..formerly.Entrezgene..ID,]\n",
    "    Entreids <- unique(geneIDTransForm[geneIDTransForm$Gene.stable.ID %in% ids,]$NCBI.gene..formerly.Entrezgene..ID)\n",
    "    return(Entreids)\n",
    "}"
   ]
  },
  {
   "cell_type": "code",
   "execution_count": 16,
   "metadata": {},
   "outputs": [],
   "source": [
    "Suc_TFs_modules <- read.table(\"Suc_TFs_modules_20230314.csv\", sep=\",\", header=TRUE)\n",
    "TFs <- unique(Suc_TFs_modules['TF'])"
   ]
  },
  {
   "cell_type": "code",
   "execution_count": 24,
   "metadata": {},
   "outputs": [
    {
     "data": {
      "text/html": [
       "<style>\n",
       ".list-inline {list-style: none; margin:0; padding: 0}\n",
       ".list-inline>li {display: inline-block}\n",
       ".list-inline>li:not(:last-child)::after {content: \"\\00b7\"; padding: 0 .5ex}\n",
       "</style>\n",
       "<ol class=list-inline><li>722</li><li>8</li></ol>\n"
      ],
      "text/latex": [
       "\\begin{enumerate*}\n",
       "\\item 722\n",
       "\\item 8\n",
       "\\end{enumerate*}\n"
      ],
      "text/markdown": [
       "1. 722\n",
       "2. 8\n",
       "\n",
       "\n"
      ],
      "text/plain": [
       "[1] 722   8"
      ]
     },
     "metadata": {},
     "output_type": "display_data"
    }
   ],
   "source": [
    "dim(Suc_TFs_modules)"
   ]
  },
  {
   "cell_type": "code",
   "execution_count": null,
   "metadata": {},
   "outputs": [],
   "source": []
  },
  {
   "cell_type": "code",
   "execution_count": 50,
   "metadata": {},
   "outputs": [],
   "source": [
    "cluster_gene_go <- function(entirz, TF){\n",
    "    cluster_erich.go = enrichGO(gene = entirz,\n",
    "                       OrgDb = Solanum.OrgDb,\n",
    "                       keyType = \"ENTREZID\",\n",
    "                       ont = \"BP\",\n",
    "                       pvalueCutoff = 0.5,\n",
    "                       qvalueCutoff = 0.5)\n",
    "\n",
    "    head(cluster_erich.go)\n",
    "    df <- cluster_erich.go@result\n",
    "    df$TF <- TF\n",
    "    df <- subset(df, select = c(\"TF\", \"Description\", \"pvalue\", \"GeneRatio\"))\n",
    "    colnames(df) <- c(\"TF\", \"Description\", \"pvalue\", \"ratio\")\n",
    "    return (df)\n",
    "}\n",
    "\n",
    "regulons_go <- function(TF_modules, tfs){\n",
    "    regulons_go <- data.frame()\n",
    "\n",
    "    for (tf in tfs){\n",
    "        genes <- TF_modules[TF_modules$TF==tf & TF_modules$target_type %in% c('gene', 'TF', 'TR'), \"target\"]\n",
    "        entrizs <- id2entrezID(genes)\n",
    "        if (length(entrizs) >10) {\n",
    "            regulon_go <- cluster_gene_go(entrizs, tf)\n",
    "\n",
    "            if (dim(regulons_go)[1]==0){\n",
    "                regulons_go <- regulon_go\n",
    "            }else{\n",
    "                regulons_go = rbind(regulons_go, regulon_go)\n",
    "            }\n",
    "        }\n",
    "    }\n",
    "    return (regulons_go)\n",
    "}\n",
    "\n",
    "\n",
    "cluster_gene_kegg <- function(entirz, TF){\n",
    "    cluster_erich.go = enrichKEGG(gene = entirz,\n",
    "                                  #OrgDb = Solanum.OrgDb,\n",
    "                                  keyType = \"ENTREZID\",\n",
    "                                  organism = \"sly\",\n",
    "                                  #keyType = \"kegg\",\n",
    "                                  pvalueCutoff = 0.05,\n",
    "                                  pAdjustMethod = \"BH\",\n",
    "                                  qvalueCutoff = 0.2,\n",
    "                                  use_internal_data = FALSE)\n",
    "\n",
    "    head(cluster_erich.go)\n",
    "    df <- cluster_erich.go@result\n",
    "    df$TF <- TF\n",
    "    df <- subset(df, select = c(\"TF\", \"Description\", \"pvalue\", \"GeneRatio\"))\n",
    "    colnames(df) <- c(\"TF\", \"Description\", \"pvalue\", \"ratio\")\n",
    "    return (df)\n",
    "}\n",
    "\n",
    "regulons_kegg <- function(TF_modules, tfs){\n",
    "    regulons_go <- data.frame()\n",
    "\n",
    "    for (tf in tfs){\n",
    "        genes <- TF_modules[TF_modules$TF==tf & TF_modules$target_type %in% c('gene', 'TF', 'TR'), \"target\"]\n",
    "        entrizs <- id2entrezID(genes)\n",
    "        if (length(entrizs) >10) {\n",
    "            regulon_go <- cluster_gene_kegg(entrizs, tf)\n",
    "\n",
    "            if (dim(regulons_go)[1]==0){\n",
    "                regulons_go <- regulon_go\n",
    "            }else{\n",
    "                regulons_go = rbind(regulons_go, regulon_go)\n",
    "            }\n",
    "        }\n",
    "    }\n",
    "    return (regulons_go)\n",
    "}\n"
   ]
  },
  {
   "cell_type": "code",
   "execution_count": null,
   "metadata": {},
   "outputs": [],
   "source": [
    "SUC_regulon_GO <- regulons_go(Suc_TFs_modules, TFs$TF)\n"
   ]
  },
  {
   "cell_type": "code",
   "execution_count": 37,
   "metadata": {},
   "outputs": [],
   "source": [
    "write.csv(SUC_regulon_GO, \"SUC_regulon_GO.csv\")"
   ]
  },
  {
   "cell_type": "code",
   "execution_count": 64,
   "metadata": {},
   "outputs": [],
   "source": [
    "SLbHLH_1_regulon = subset(Suc_TFs_modules, TF_symbol==\"SLbHLH_1\")"
   ]
  },
  {
   "cell_type": "code",
   "execution_count": 65,
   "metadata": {},
   "outputs": [],
   "source": [
    "entrizs <- id2entrezID(SLbHLH_1_regulon$target)"
   ]
  },
  {
   "cell_type": "code",
   "execution_count": 108,
   "metadata": {},
   "outputs": [],
   "source": [
    "SLbHLH_1_regulon.go = enrichGO(gene = entrizs,\n",
    "                       OrgDb = Solanum.OrgDb,\n",
    "                       keyType = \"ENTREZID\",\n",
    "                       ont = \"MF\",\n",
    "                       pvalueCutoff = 0.5,\n",
    "                       qvalueCutoff = 0.5)"
   ]
  },
  {
   "cell_type": "code",
   "execution_count": 111,
   "metadata": {},
   "outputs": [
    {
     "name": "stderr",
     "output_type": "stream",
     "text": [
      "\u001b[1m\u001b[22mScale for \u001b[32mfill\u001b[39m is already present.\n",
      "Adding another scale for \u001b[32mfill\u001b[39m, which will replace the existing scale.\n"
     ]
    },
    {
     "data": {
      "image/png": "[encoded data removed]",
      "text/plain": [
       "plot without title"
      ]
     },
     "metadata": {
      "image/png": {
       "height": 300,
       "width": 600
      }
     },
     "output_type": "display_data"
    }
   ],
   "source": [
    "library(ggplot2)\n",
    "library(viridis)\n",
    "\n",
    "options(repr.plot.width=10, repr.plot.height=5)\n",
    "\n",
    "\n",
    "p <- barplot(SLbHLH_1_regulon.go, x = \"GeneRatio\", color = \"p.adjust\", #默认参数（x和color可以根据eG里面的内容更改）\n",
    "        showCategory =10, #只显示前10\n",
    "        #split=\"ONTOLOGY\"\n",
    "       ) + \n",
    "    scale_fill_viridis(guide=guide_colorbar(reverse=TRUE)) +\n",
    "    labs(y=\"GeneRatio\")\n",
    "#+ scale_color_viridis_c(guide=guide_colorbar(reverse=TRUE))\n",
    "    #+ #以ONTOLOGY类型分开\n",
    "    #facet_grid(ONTOLOGY~., scale='free') #以ONTOLOGY类型分开绘图\n",
    "\n",
    "ggsave(\"SLbHLH_1_regulon.MF.function.pdf\", p, width=10, height=5)\n",
    "p"
   ]
  },
  {
   "cell_type": "code",
   "execution_count": null,
   "metadata": {},
   "outputs": [],
   "source": []
  },
  {
   "cell_type": "code",
   "execution_count": 81,
   "metadata": {},
   "outputs": [
    {
     "name": "stderr",
     "output_type": "stream",
     "text": [
      "Reading KEGG annotation online:\n",
      "\n",
      "\n",
      "Warning message in download.file(url, method = method, ...):\n",
      "“cannot open URL 'https://rest.kegg.jp/conv/ENTREZID/sly': HTTP status was '400 Bad Request'”\n",
      "fail to download KEGG data...\n",
      "\n"
     ]
    },
    {
     "ename": "ERROR",
     "evalue": "Error in KEGG_convert(\"kegg\", keyType, species): ENTREZID is not supported for sly ...\n",
     "output_type": "error",
     "traceback": [
      "Error in KEGG_convert(\"kegg\", keyType, species): ENTREZID is not supported for sly ...\nTraceback:\n",
      "1. enrichKEGG(gene = entrizs, keyType = \"ENTREZID\", organism = \"sly\", \n .     pvalueCutoff = 0.05, pAdjustMethod = \"BH\", qvalueCutoff = 0.2, \n .     use_internal_data = FALSE)",
      "2. prepare_KEGG(species, \"KEGG\", keyType)",
      "3. download_KEGG(species, KEGG_Type, keyType)",
      "4. KEGG_convert(\"kegg\", keyType, species)",
      "5. stop(toType, \" is not supported for \", species, \" ...\")"
     ]
    }
   ],
   "source": [
    "SLbHLH_1_regulon.kegg <- enrichKEGG(gene = entrizs, #需要分析的基因的EntrezID\n",
    "                                    keyType = \"ENTREZID\",\n",
    "                                    organism = \"sly\",\n",
    "                                    pvalueCutoff = 0.05,\n",
    "                                    pAdjustMethod = \"BH\",\n",
    "                                    qvalueCutoff = 0.2,\n",
    "                                    use_internal_data = FALSE)\n",
    "               "
   ]
  },
  {
   "cell_type": "code",
   "execution_count": null,
   "metadata": {},
   "outputs": [],
   "source": []
  },
  {
   "cell_type": "code",
   "execution_count": null,
   "metadata": {},
   "outputs": [],
   "source": []
  },
  {
   "cell_type": "code",
   "execution_count": null,
   "metadata": {},
   "outputs": [],
   "source": []
  },
  {
   "cell_type": "code",
   "execution_count": null,
   "metadata": {},
   "outputs": [],
   "source": []
  },
  {
   "cell_type": "code",
   "execution_count": 51,
   "metadata": {},
   "outputs": [
    {
     "name": "stderr",
     "output_type": "stream",
     "text": [
      "Reading KEGG annotation online:\n",
      "\n",
      "\n",
      "Reading KEGG annotation online:\n",
      "\n",
      "\n",
      "Reading KEGG annotation online:\n",
      "\n",
      "\n",
      "Warning message in download.file(url, method = method, ...):\n",
      "“cannot open URL 'https://rest.kegg.jp/conv/ENTREZID/sly': HTTP status was '400 Bad Request'”\n",
      "fail to download KEGG data...\n",
      "\n"
     ]
    },
    {
     "ename": "ERROR",
     "evalue": "Error in KEGG_convert(\"kegg\", keyType, species): ENTREZID is not supported for sly ...\n",
     "output_type": "error",
     "traceback": [
      "Error in KEGG_convert(\"kegg\", keyType, species): ENTREZID is not supported for sly ...\nTraceback:\n",
      "1. regulons_kegg(Suc_TFs_modules, TFs$TF)",
      "2. cluster_gene_kegg(entrizs, tf)   # at line 63 of file <text>",
      "3. enrichKEGG(gene = entirz, keyType = \"ENTREZID\", organism = \"sly\", \n .     pvalueCutoff = 0.05, pAdjustMethod = \"BH\", qvalueCutoff = 0.2, \n .     use_internal_data = FALSE)   # at line 38-46 of file <text>",
      "4. prepare_KEGG(species, \"KEGG\", keyType)",
      "5. download_KEGG(species, KEGG_Type, keyType)",
      "6. KEGG_convert(\"kegg\", keyType, species)",
      "7. stop(toType, \" is not supported for \", species, \" ...\")"
     ]
    }
   ],
   "source": [
    "SUC_regulon_KEGG <- regulons_kegg(Suc_TFs_modules, TFs$TF)\n"
   ]
  },
  {
   "cell_type": "code",
   "execution_count": null,
   "metadata": {},
   "outputs": [],
   "source": []
  },
  {
   "cell_type": "code",
   "execution_count": null,
   "metadata": {},
   "outputs": [],
   "source": []
  },
  {
   "cell_type": "code",
   "execution_count": 38,
   "metadata": {},
   "outputs": [],
   "source": [
    "CoA_TFs_modules <- read.table(\"CoA_TFs_modules_20230316.csv\", sep=\",\", header=TRUE)\n",
    "CoATFs <- unique(CoA_TFs_modules['TF'])"
   ]
  },
  {
   "cell_type": "code",
   "execution_count": 43,
   "metadata": {},
   "outputs": [],
   "source": [
    "CoA_regulon_GO <- regulons_go(CoA_TFs_modules, CoATFs$TF)"
   ]
  },
  {
   "cell_type": "code",
   "execution_count": 44,
   "metadata": {},
   "outputs": [],
   "source": [
    "write.csv(CoA_regulon_GO, \"SUC_regulon_GO.csv\")"
   ]
  },
  {
   "cell_type": "code",
   "execution_count": null,
   "metadata": {},
   "outputs": [],
   "source": []
  },
  {
   "cell_type": "code",
   "execution_count": null,
   "metadata": {},
   "outputs": [],
   "source": []
  },
  {
   "cell_type": "code",
   "execution_count": null,
   "metadata": {},
   "outputs": [],
   "source": []
  },
  {
   "cell_type": "code",
   "execution_count": 54,
   "metadata": {},
   "outputs": [],
   "source": [
    "gene_TF_type <- read.table(\"../cluster_TFs/CCDD_cluster_gene7860_type.csv\", sep=\",\")"
   ]
  },
  {
   "cell_type": "code",
   "execution_count": null,
   "metadata": {},
   "outputs": [],
   "source": []
  },
  {
   "cell_type": "code",
   "execution_count": null,
   "metadata": {},
   "outputs": [],
   "source": []
  }
 ],
 "metadata": {
  "kernelspec": {
   "display_name": "R",
   "language": "R",
   "name": "ir"
  },
  "language_info": {
   "codemirror_mode": "r",
   "file_extension": ".r",
   "mimetype": "text/x-r-source",
   "name": "R",
   "pygments_lexer": "r",
   "version": "4.0.4"
  }
 },
 "nbformat": 4,
 "nbformat_minor": 4
}
