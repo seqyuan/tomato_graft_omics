{
 "cells": [
  {
   "cell_type": "markdown",
   "metadata": {},
   "source": [
    "# Trans data mean process"
   ]
  },
  {
   "cell_type": "code",
   "execution_count": 40,
   "metadata": {},
   "outputs": [],
   "source": [
    "import matplotlib.pyplot as plt\n",
    "import networkx as nx\n",
    "import pandas as pd\n",
    "import matplotlib as mpl\n",
    "mpl.rcParams['pdf.fonttype']=42\n",
    "mpl.rcParams['ps.fonttype']=42\n",
    "import os"
   ]
  },
  {
   "cell_type": "code",
   "execution_count": 16,
   "metadata": {},
   "outputs": [],
   "source": [
    "data_raw = pd.read_excel(\"~/Documents/phd/tomato_metabolic/作图2.19/热图/热图2（SWEET).xlsx\", sheet_name=0, index_col=0)\n",
    "data = data_raw.copy()\n",
    "del data[\"ID\"]"
   ]
  },
  {
   "cell_type": "markdown",
   "metadata": {},
   "source": [
    "## meta data"
   ]
  },
  {
   "cell_type": "code",
   "execution_count": 29,
   "metadata": {},
   "outputs": [
    {
     "data": {
      "text/html": [
       "<div>\n",
       "<style scoped>\n",
       "    .dataframe tbody tr th:only-of-type {\n",
       "        vertical-align: middle;\n",
       "    }\n",
       "\n",
       "    .dataframe tbody tr th {\n",
       "        vertical-align: top;\n",
       "    }\n",
       "\n",
       "    .dataframe thead th {\n",
       "        text-align: right;\n",
       "    }\n",
       "</style>\n",
       "<table border=\"1\" class=\"dataframe\">\n",
       "  <thead>\n",
       "    <tr style=\"text-align: right;\">\n",
       "      <th></th>\n",
       "      <th>condition_HAG</th>\n",
       "      <th>Condition</th>\n",
       "      <th>HAG</th>\n",
       "    </tr>\n",
       "    <tr>\n",
       "      <th>sample</th>\n",
       "      <th></th>\n",
       "      <th></th>\n",
       "      <th></th>\n",
       "    </tr>\n",
       "  </thead>\n",
       "  <tbody>\n",
       "    <tr>\n",
       "      <th>C0h-1_fpkm</th>\n",
       "      <td>C0</td>\n",
       "      <td>C</td>\n",
       "      <td>0</td>\n",
       "    </tr>\n",
       "    <tr>\n",
       "      <th>C0h-2_fpkm</th>\n",
       "      <td>C0</td>\n",
       "      <td>C</td>\n",
       "      <td>0</td>\n",
       "    </tr>\n",
       "  </tbody>\n",
       "</table>\n",
       "</div>"
      ],
      "text/plain": [
       "           condition_HAG Condition HAG\n",
       "sample                                \n",
       "C0h-1_fpkm            C0         C   0\n",
       "C0h-2_fpkm            C0         C   0"
      ]
     },
     "execution_count": 29,
     "metadata": {},
     "output_type": "execute_result"
    }
   ],
   "source": [
    "data_meta = pd.DataFrame(data.columns)\n",
    "data_meta.columns = [\"sample\"]\n",
    "data_meta.index = data_meta[\"sample\"]\n",
    "data_meta['condition_HAG'] = data_meta[\"sample\"].str.split(\"h-\", expand=True)[0]\n",
    "\n",
    "import re\n",
    "def get_condition(series):\n",
    "    return re.split(\"(\\d+)\", series['condition_HAG'])[0]\n",
    "\n",
    "def get_HAG(series):\n",
    "    return re.split(\"(\\d+)\", series['condition_HAG'])[1]\n",
    "\n",
    "data_meta['Condition'] = data_meta.apply(get_condition, axis=1)\n",
    "data_meta['HAG'] = data_meta.apply(get_HAG, axis=1)\n",
    "data_meta = data_meta[['condition_HAG', 'Condition', 'HAG']]\n",
    "data_meta.head(2)"
   ]
  },
  {
   "cell_type": "markdown",
   "metadata": {},
   "source": [
    "## data"
   ]
  },
  {
   "cell_type": "code",
   "execution_count": 31,
   "metadata": {},
   "outputs": [
    {
     "name": "stderr",
     "output_type": "stream",
     "text": [
      "<ipython-input-31-ab64c61407dd>:4: FutureWarning: The default value of numeric_only in DataFrameGroupBy.mean is deprecated. In a future version, numeric_only will default to False. Either specify numeric_only or select only columns which should be valid for the function.\n",
      "  data = data.groupby(['gene', 'condition_HAG']).mean()[\"value\"].reset_index()\n"
     ]
    }
   ],
   "source": [
    "data['gene'] = data.index\n",
    "data = data.melt(id_vars=['gene'])\n",
    "data['condition_HAG'] = data_meta.loc[data['variable'], \"condition_HAG\"].to_list()\n",
    "data = data.groupby(['gene', 'condition_HAG']).mean()[\"value\"].reset_index()\n",
    "data = pd.crosstab(data['gene'], data['condition_HAG'], aggfunc='max',values=data['value'].to_list())"
   ]
  },
  {
   "cell_type": "code",
   "execution_count": 36,
   "metadata": {},
   "outputs": [],
   "source": [
    "data_meta2 = pd.DataFrame(data.columns)\n",
    "data_meta2.columns = [\"sample\"]\n",
    "\n",
    "def get_condition2(series):\n",
    "    return re.split(\"(\\d+)\", series['sample'])[0]\n",
    "\n",
    "def get_HAG2(series):\n",
    "    return re.split(\"(\\d+)\", series['sample'])[1]\n",
    "\n",
    "data_meta2['Condition'] = data_meta2.apply(get_condition2, axis=1)\n",
    "data_meta2['HAG'] = data_meta2.apply(get_HAG2, axis=1)\n",
    "data_meta2['HAG'] = data_meta2['HAG'].astype(int)\n",
    "data_meta2 = data_meta2.sort_values(['Condition', 'HAG'])\n",
    "\n",
    "data = data.loc[data.index, data_meta2['sample']]"
   ]
  },
  {
   "cell_type": "code",
   "execution_count": 42,
   "metadata": {},
   "outputs": [],
   "source": [
    "os.chdir(\"/Users/yuanzan/Documents/github/seqyuan/tomato_graft_omics/data/heatmap219\")"
   ]
  },
  {
   "cell_type": "code",
   "execution_count": 43,
   "metadata": {},
   "outputs": [],
   "source": [
    "data.to_csv('Trans_protein_mean_FPkM.csv', sep=\"\\t\")\n",
    "data_meta2.to_csv('Trans_protein_mean_FPkM_meta.csv', sep=\"\\t\")"
   ]
  },
  {
   "cell_type": "code",
   "execution_count": null,
   "metadata": {},
   "outputs": [],
   "source": []
  },
  {
   "cell_type": "markdown",
   "metadata": {},
   "source": [
    "# R code for heatmap"
   ]
  },
  {
   "cell_type": "code",
   "execution_count": 2,
   "metadata": {},
   "outputs": [],
   "source": [
    "library(UpSetR)\n",
    "library(readxl)\n",
    "library(ggplot2)\n",
    "library(clusterProfiler)\n",
    "library(ClusterGVis)\n",
    "library(Mfuzz)\n",
    "library(AnnotationHub) \n",
    "library(biomaRt)\n",
    "library(ComplexHeatmap)\n",
    "library(dplyr)\n",
    "library(stringr)\n",
    "library(circlize)\n",
    "library(pheatmap)"
   ]
  },
  {
   "cell_type": "code",
   "execution_count": 3,
   "metadata": {},
   "outputs": [],
   "source": [
    "setwd('/Users/yuanzan/Documents/github/seqyuan/tomato_graft_omics/data/heatmap219')"
   ]
  },
  {
   "cell_type": "code",
   "execution_count": 7,
   "metadata": {},
   "outputs": [],
   "source": [
    "df <- read.table(\"Trans_protein_mean_FPkM.csv\", sep=\"\\t\", header=TRUE, row.names=1)\n",
    "df_meta <- read.table(\"Trans_protein_mean_FPkM_meta.csv\", sep=\"\\t\", header=TRUE, row.names=2)\n",
    "df_meta <- df_meta[,c('Condition', 'HAG')]\n",
    "df_meta$Condition <- factor(df_meta$Condition, levels=c('C', 'D', 'CC', 'DD', 'CD'))"
   ]
  },
  {
   "cell_type": "code",
   "execution_count": 24,
   "metadata": {},
   "outputs": [
    {
     "data": {
      "image/png": "[encoded data removed]",
      "text/plain": [
       "plot without title"
      ]
     },
     "metadata": {
      "image/png": {
       "height": 240,
       "width": 1140
      }
     },
     "output_type": "display_data"
    }
   ],
   "source": [
    "options(repr.plot.width=19, repr.plot.height=4)\n",
    "#pdf('heatmap1.pdf', width = 12, height=10)\n",
    "\n",
    "ann_colors = list(\n",
    "  HAG = c(\"white\", \"firebrick\"),\n",
    "  Condition = c(C = \"#E0CCD2\", D = \"#07CCD2\", CC = \"#E0CC71\", DD = \"#8AA6CE\", CD = \"#8AA69C\")\n",
    ")\n",
    "\n",
    "pheatmap(log2(df+0.01), annotation_col = df_meta, annotation_colors=ann_colors, border_color=NA,\n",
    "         cluster_rows=TRUE, cluster_cols=FALSE, \n",
    "         show_rownames=TRUE, show_colnames=FALSE, \n",
    "         color = colorRampPalette(c(\"navy\",\"white\",\"firebrick3\"))(256),\n",
    "         scale = \"row\", \n",
    "         width=19, height=4)#,\n",
    "         #filename=\"trans_protein.pdf\")\n",
    "\n",
    "#dev.off()"
   ]
  },
  {
   "cell_type": "code",
   "execution_count": null,
   "metadata": {},
   "outputs": [],
   "source": []
  },
  {
   "cell_type": "code",
   "execution_count": null,
   "metadata": {},
   "outputs": [],
   "source": []
  }
 ],
 "metadata": {
  "kernelspec": {
   "display_name": "R",
   "language": "R",
   "name": "ir"
  },
  "language_info": {
   "codemirror_mode": "r",
   "file_extension": ".r",
   "mimetype": "text/x-r-source",
   "name": "R",
   "pygments_lexer": "r",
   "version": "4.0.4"
  }
 },
 "nbformat": 4,
 "nbformat_minor": 4
}
